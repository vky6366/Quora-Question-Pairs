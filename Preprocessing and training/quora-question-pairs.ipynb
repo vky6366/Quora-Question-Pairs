{
 "cells": [
  {
   "cell_type": "code",
   "execution_count": 2,
   "metadata": {
    "_cell_guid": "b1076dfc-b9ad-4769-8c92-a6c4dae69d19",
    "_uuid": "8f2839f25d086af736a60e9eeb907d3b93b6e0e5",
    "execution": {
     "iopub.execute_input": "2025-07-28T18:58:39.522339Z",
     "iopub.status.busy": "2025-07-28T18:58:39.521770Z",
     "iopub.status.idle": "2025-07-28T18:58:40.404142Z",
     "shell.execute_reply": "2025-07-28T18:58:40.403613Z",
     "shell.execute_reply.started": "2025-07-28T18:58:39.522316Z"
    },
    "trusted": true
   },
   "outputs": [],
   "source": [
    "path_to_zip_file = \"/kaggle/input/quora-question-pairs/train.csv.zip\"\n",
    "directory_to_extract_to = \"./\"\n",
    "import zipfile\n",
    "with zipfile.ZipFile(path_to_zip_file, 'r') as zip_ref:\n",
    "  zip_ref.extractall(directory_to_extract_to)"
   ]
  },
  {
   "cell_type": "code",
   "execution_count": 2,
   "metadata": {
    "execution": {
     "iopub.execute_input": "2025-07-28T18:58:40.405344Z",
     "iopub.status.busy": "2025-07-28T18:58:40.405102Z",
     "iopub.status.idle": "2025-07-28T18:58:41.701169Z",
     "shell.execute_reply": "2025-07-28T18:58:41.700412Z",
     "shell.execute_reply.started": "2025-07-28T18:58:40.405325Z"
    },
    "trusted": true
   },
   "outputs": [],
   "source": [
    "import numpy as np\n",
    "import pandas as pd\n",
    "import matplotlib.pyplot as plt\n",
    "import seaborn as sns\n",
    "import re\n",
    "from bs4 import BeautifulSoup"
   ]
  },
  {
   "cell_type": "code",
   "execution_count": 4,
   "metadata": {
    "execution": {
     "iopub.execute_input": "2025-07-28T18:58:41.702307Z",
     "iopub.status.busy": "2025-07-28T18:58:41.701976Z",
     "iopub.status.idle": "2025-07-28T18:58:42.798558Z",
     "shell.execute_reply": "2025-07-28T18:58:42.797781Z",
     "shell.execute_reply.started": "2025-07-28T18:58:41.702281Z"
    },
    "trusted": true
   },
   "outputs": [
    {
     "data": {
      "text/html": [
       "<div>\n",
       "<style scoped>\n",
       "    .dataframe tbody tr th:only-of-type {\n",
       "        vertical-align: middle;\n",
       "    }\n",
       "\n",
       "    .dataframe tbody tr th {\n",
       "        vertical-align: top;\n",
       "    }\n",
       "\n",
       "    .dataframe thead th {\n",
       "        text-align: right;\n",
       "    }\n",
       "</style>\n",
       "<table border=\"1\" class=\"dataframe\">\n",
       "  <thead>\n",
       "    <tr style=\"text-align: right;\">\n",
       "      <th></th>\n",
       "      <th>id</th>\n",
       "      <th>qid1</th>\n",
       "      <th>qid2</th>\n",
       "      <th>question1</th>\n",
       "      <th>question2</th>\n",
       "      <th>is_duplicate</th>\n",
       "    </tr>\n",
       "  </thead>\n",
       "  <tbody>\n",
       "    <tr>\n",
       "      <th>0</th>\n",
       "      <td>0</td>\n",
       "      <td>1</td>\n",
       "      <td>2</td>\n",
       "      <td>What is the step by step guide to invest in sh...</td>\n",
       "      <td>What is the step by step guide to invest in sh...</td>\n",
       "      <td>0</td>\n",
       "    </tr>\n",
       "    <tr>\n",
       "      <th>1</th>\n",
       "      <td>1</td>\n",
       "      <td>3</td>\n",
       "      <td>4</td>\n",
       "      <td>What is the story of Kohinoor (Koh-i-Noor) Dia...</td>\n",
       "      <td>What would happen if the Indian government sto...</td>\n",
       "      <td>0</td>\n",
       "    </tr>\n",
       "    <tr>\n",
       "      <th>2</th>\n",
       "      <td>2</td>\n",
       "      <td>5</td>\n",
       "      <td>6</td>\n",
       "      <td>How can I increase the speed of my internet co...</td>\n",
       "      <td>How can Internet speed be increased by hacking...</td>\n",
       "      <td>0</td>\n",
       "    </tr>\n",
       "    <tr>\n",
       "      <th>3</th>\n",
       "      <td>3</td>\n",
       "      <td>7</td>\n",
       "      <td>8</td>\n",
       "      <td>Why am I mentally very lonely? How can I solve...</td>\n",
       "      <td>Find the remainder when [math]23^{24}[/math] i...</td>\n",
       "      <td>0</td>\n",
       "    </tr>\n",
       "    <tr>\n",
       "      <th>4</th>\n",
       "      <td>4</td>\n",
       "      <td>9</td>\n",
       "      <td>10</td>\n",
       "      <td>Which one dissolve in water quikly sugar, salt...</td>\n",
       "      <td>Which fish would survive in salt water?</td>\n",
       "      <td>0</td>\n",
       "    </tr>\n",
       "  </tbody>\n",
       "</table>\n",
       "</div>"
      ],
      "text/plain": [
       "   id  qid1  qid2                                          question1  \\\n",
       "0   0     1     2  What is the step by step guide to invest in sh...   \n",
       "1   1     3     4  What is the story of Kohinoor (Koh-i-Noor) Dia...   \n",
       "2   2     5     6  How can I increase the speed of my internet co...   \n",
       "3   3     7     8  Why am I mentally very lonely? How can I solve...   \n",
       "4   4     9    10  Which one dissolve in water quikly sugar, salt...   \n",
       "\n",
       "                                           question2  is_duplicate  \n",
       "0  What is the step by step guide to invest in sh...             0  \n",
       "1  What would happen if the Indian government sto...             0  \n",
       "2  How can Internet speed be increased by hacking...             0  \n",
       "3  Find the remainder when [math]23^{24}[/math] i...             0  \n",
       "4            Which fish would survive in salt water?             0  "
      ]
     },
     "execution_count": 4,
     "metadata": {},
     "output_type": "execute_result"
    }
   ],
   "source": [
    "df = pd.read_csv(r\"train.csv\")\n",
    "df.head()"
   ]
  },
  {
   "cell_type": "code",
   "execution_count": 5,
   "metadata": {
    "execution": {
     "iopub.execute_input": "2025-07-28T18:58:42.800460Z",
     "iopub.status.busy": "2025-07-28T18:58:42.800223Z",
     "iopub.status.idle": "2025-07-28T18:58:42.812261Z",
     "shell.execute_reply": "2025-07-28T18:58:42.811705Z",
     "shell.execute_reply.started": "2025-07-28T18:58:42.800425Z"
    },
    "trusted": true
   },
   "outputs": [],
   "source": [
    "def preprocess(r):\n",
    "    r = str(r).lower().strip()\n",
    "    r = r.replace('%','percent')\n",
    "    r = r.replace('$','dollar')\n",
    "    r = r.replace('₹','rupee')\n",
    "    r = r.replace('€','percent')\n",
    "    r = r.replace('@','percent')\n",
    "\n",
    "    r = r.replace('[math]','')\n",
    "    def simplify_number(text):\n",
    "        def repl(match):\n",
    "            num = int(match.group())\n",
    "            if num >= 1_000_000_000:\n",
    "                return f'{num//1_000_000_000}b'\n",
    "            elif num >= 1_000_000:\n",
    "                return f'{num//1_000_000}m'\n",
    "            elif num >= 1_000:\n",
    "                return f'{num//1_000}k'\n",
    "            return str(num)\n",
    "        \n",
    "        return re.sub(r'\\b\\d{4,}\\b', repl, text)\n",
    "        \n",
    "    r = simplify_number(r)\n",
    "\n",
    "    contractions = { \n",
    "        \"ain't\": \"am not\",\n",
    "        \"aren't\": \"are not\",\n",
    "        \"can't\": \"can not\",\n",
    "        \"can't've\": \"can not have\",\n",
    "        \"'cause\": \"because\",\n",
    "        \"could've\": \"could have\",\n",
    "        \"couldn't\": \"could not\",\n",
    "        \"couldn't've\": \"could not have\",\n",
    "        \"didn't\": \"did not\",\n",
    "        \"doesn't\": \"does not\",\n",
    "        \"don't\": \"do not\",\n",
    "        \"hadn't\": \"had not\",\n",
    "        \"hadn't've\": \"had not have\",\n",
    "        \"hasn't\": \"has not\",\n",
    "        \"haven't\": \"have not\",\n",
    "        \"he'd\": \"he would\",\n",
    "        \"he'd've\": \"he would have\",\n",
    "        \"he'll\": \"he will\",\n",
    "        \"he'll've\": \"he will have\",\n",
    "        \"he's\": \"he is\",\n",
    "        \"how'd\": \"how did\",\n",
    "        \"how'd'y\": \"how do you\",\n",
    "        \"how'll\": \"how will\",\n",
    "        \"how's\": \"how is\",\n",
    "        \"i'd\": \"i would\",\n",
    "        \"i'd've\": \"i would have\",\n",
    "        \"i'll\": \"i will\",\n",
    "        \"i'll've\": \"i will have\",\n",
    "        \"i'm\": \"i am\",\n",
    "        \"i've\": \"i have\",\n",
    "        \"isn't\": \"is not\",\n",
    "        \"it'd\": \"it would\",\n",
    "        \"it'd've\": \"it would have\",\n",
    "        \"it'll\": \"it will\",\n",
    "        \"it'll've\": \"it will have\",\n",
    "        \"it's\": \"it is\",\n",
    "        \"let's\": \"let us\",\n",
    "        \"ma'am\": \"madam\",\n",
    "        \"mayn't\": \"may not\",\n",
    "        \"might've\": \"might have\",\n",
    "        \"mightn't\": \"might not\",\n",
    "        \"mightn't've\": \"might not have\",\n",
    "        \"must've\": \"must have\",\n",
    "        \"mustn't\": \"must not\",\n",
    "        \"mustn't've\": \"must not have\",\n",
    "        \"needn't\": \"need not\",\n",
    "        \"needn't've\": \"need not have\",\n",
    "        \"o'clock\": \"of the clock\",\n",
    "        \"oughtn't\": \"ought not\",\n",
    "        \"oughtn't've\": \"ought not have\",\n",
    "        \"shan't\": \"shall not\",\n",
    "        \"sha'n't\": \"shall not\",\n",
    "        \"shan't've\": \"shall not have\",\n",
    "        \"she'd\": \"she would\",\n",
    "        \"she'd've\": \"she would have\",\n",
    "        \"she'll\": \"she will\",\n",
    "        \"she'll've\": \"she will have\",\n",
    "        \"she's\": \"she is\",\n",
    "        \"should've\": \"should have\",\n",
    "        \"shouldn't\": \"should not\",\n",
    "        \"shouldn't've\": \"should not have\",\n",
    "        \"so've\": \"so have\",\n",
    "        \"so's\": \"so as\",\n",
    "        \"that'd\": \"that would\",\n",
    "        \"that'd've\": \"that would have\",\n",
    "        \"that's\": \"that is\",\n",
    "        \"there'd\": \"there would\",\n",
    "        \"there'd've\": \"there would have\",\n",
    "        \"there's\": \"there is\",\n",
    "        \"they'd\": \"they would\",\n",
    "        \"they'd've\": \"they would have\",\n",
    "        \"they'll\": \"they will\",\n",
    "        \"they'll've\": \"they will have\",\n",
    "        \"they're\": \"they are\",\n",
    "        \"they've\": \"they have\",\n",
    "        \"to've\": \"to have\",\n",
    "        \"wasn't\": \"was not\",\n",
    "        \"we'd\": \"we would\",\n",
    "        \"we'd've\": \"we would have\",\n",
    "        \"we'll\": \"we will\",\n",
    "        \"we'll've\": \"we will have\",\n",
    "        \"we're\": \"we are\",\n",
    "        \"we've\": \"we have\",\n",
    "        \"weren't\": \"were not\",\n",
    "        \"what'll\": \"what will\",\n",
    "        \"what'll've\": \"what will have\",\n",
    "        \"what're\": \"what are\",\n",
    "        \"what's\": \"what is\",\n",
    "        \"what've\": \"what have\",\n",
    "        \"when's\": \"when is\",\n",
    "        \"when've\": \"when have\",\n",
    "        \"where'd\": \"where did\",\n",
    "        \"where's\": \"where is\",\n",
    "        \"where've\": \"where have\",\n",
    "        \"who'll\": \"who will\",\n",
    "        \"who'll've\": \"who will have\",\n",
    "        \"who's\": \"who is\",\n",
    "        \"who've\": \"who have\",\n",
    "        \"why's\": \"why is\",\n",
    "        \"why've\": \"why have\",\n",
    "        \"will've\": \"will have\",\n",
    "        \"won't\": \"will not\",\n",
    "        \"won't've\": \"will not have\",\n",
    "        \"would've\": \"would have\",\n",
    "        \"wouldn't\": \"would not\",\n",
    "        \"wouldn't've\": \"would not have\",\n",
    "        \"y'all\": \"you all\",\n",
    "        \"y'all'd\": \"you all would\",\n",
    "        \"y'all'd've\": \"you all would have\",\n",
    "        \"y'all're\": \"you all are\",\n",
    "        \"y'all've\": \"you all have\",\n",
    "        \"you'd\": \"you would\",\n",
    "        \"you'd've\": \"you would have\",\n",
    "        \"you'll\": \"you will\",\n",
    "        \"you'll've\": \"you will have\",\n",
    "        \"you're\": \"you are\",\n",
    "        \"you've\": \"you have\"\n",
    "        }\n",
    "\n",
    "    r_decontracted = []\n",
    "\n",
    "    for word in r.split():\n",
    "        if word in contractions:\n",
    "            word = contractions[word]\n",
    "\n",
    "        r_decontracted.append(word)\n",
    "    r = ' '.join(r_decontracted)\n",
    "    r = r.replace(\"'ve'\",\"have\")\n",
    "    r = r.replace(\"n't\",\"not\")\n",
    "    r = r.replace(\"'re\",\"are\")\n",
    "    r = r.replace(\"'ll'\",\"will\")\n",
    "\n",
    "\n",
    "    r = BeautifulSoup(r, \"html.parser\").get_text()\n",
    "\n",
    "    r = re.sub(r'\\W+', ' ', r).strip()\n",
    "\n",
    "    return r"
   ]
  },
  {
   "cell_type": "code",
   "execution_count": 6,
   "metadata": {
    "execution": {
     "iopub.execute_input": "2025-07-28T18:58:42.812990Z",
     "iopub.status.busy": "2025-07-28T18:58:42.812831Z",
     "iopub.status.idle": "2025-07-28T18:59:26.268782Z",
     "shell.execute_reply": "2025-07-28T18:59:26.267983Z",
     "shell.execute_reply.started": "2025-07-28T18:58:42.812976Z"
    },
    "trusted": true
   },
   "outputs": [],
   "source": [
    "df['question1'] = df['question1'] .apply(preprocess)\n",
    "df['question2'] = df['question2'] .apply(preprocess)"
   ]
  },
  {
   "cell_type": "code",
   "execution_count": 7,
   "metadata": {
    "execution": {
     "iopub.execute_input": "2025-07-28T18:59:26.270320Z",
     "iopub.status.busy": "2025-07-28T18:59:26.270051Z",
     "iopub.status.idle": "2025-07-28T18:59:27.160928Z",
     "shell.execute_reply": "2025-07-28T18:59:27.160169Z",
     "shell.execute_reply.started": "2025-07-28T18:59:26.270293Z"
    },
    "trusted": true
   },
   "outputs": [],
   "source": [
    "df['q1_len'] = df['question1'].str.len()\n",
    "df['q2_len'] = df['question2'].str.len()\n",
    "df['q1_num_words'] = df['question1'].apply(lambda row: len(row.split(\" \")))\n",
    "df['q2_num_words'] = df['question2'].apply(lambda row: len(row.split(\" \")))"
   ]
  },
  {
   "cell_type": "code",
   "execution_count": 8,
   "metadata": {
    "execution": {
     "iopub.execute_input": "2025-07-28T18:59:27.161819Z",
     "iopub.status.busy": "2025-07-28T18:59:27.161618Z",
     "iopub.status.idle": "2025-07-28T18:59:32.115226Z",
     "shell.execute_reply": "2025-07-28T18:59:32.114554Z",
     "shell.execute_reply.started": "2025-07-28T18:59:27.161804Z"
    },
    "trusted": true
   },
   "outputs": [],
   "source": [
    "def common_words(row):\n",
    "    w1 = set(map(lambda word: word.lower().strip(),row['question1'].split(\" \")))\n",
    "    w2 = set(map(lambda word: word.lower().strip(),row['question2'].split(\" \")))\n",
    "    return len(w1 & w2)\n",
    "\n",
    "df['common_words'] = df.apply(common_words,axis=1)"
   ]
  },
  {
   "cell_type": "code",
   "execution_count": 9,
   "metadata": {
    "execution": {
     "iopub.execute_input": "2025-07-28T18:59:32.116200Z",
     "iopub.status.busy": "2025-07-28T18:59:32.115976Z",
     "iopub.status.idle": "2025-07-28T18:59:36.728487Z",
     "shell.execute_reply": "2025-07-28T18:59:36.727917Z",
     "shell.execute_reply.started": "2025-07-28T18:59:32.116183Z"
    },
    "trusted": true
   },
   "outputs": [],
   "source": [
    "def total_words(row):\n",
    "    w1 = set(map(lambda word: word.lower().strip(), row['question1'].split(\" \")))\n",
    "    w2 = set(map(lambda word: word.lower().strip(), row['question2'].split(\" \")))\n",
    "    return (len(w1) + len(w2))\n",
    "\n",
    "df['total_words'] = df.apply(total_words,axis=1)"
   ]
  },
  {
   "cell_type": "code",
   "execution_count": 10,
   "metadata": {
    "execution": {
     "iopub.execute_input": "2025-07-28T18:59:36.729334Z",
     "iopub.status.busy": "2025-07-28T18:59:36.729137Z",
     "iopub.status.idle": "2025-07-28T18:59:36.748201Z",
     "shell.execute_reply": "2025-07-28T18:59:36.747701Z",
     "shell.execute_reply.started": "2025-07-28T18:59:36.729319Z"
    },
    "trusted": true
   },
   "outputs": [],
   "source": [
    "df['word_share'] = round(df['common_words']/df['total_words'],2)"
   ]
  },
  {
   "cell_type": "code",
   "execution_count": 11,
   "metadata": {
    "execution": {
     "iopub.execute_input": "2025-07-28T18:59:36.750433Z",
     "iopub.status.busy": "2025-07-28T18:59:36.750232Z",
     "iopub.status.idle": "2025-07-28T18:59:37.463085Z",
     "shell.execute_reply": "2025-07-28T18:59:37.462331Z",
     "shell.execute_reply.started": "2025-07-28T18:59:36.750417Z"
    },
    "trusted": true
   },
   "outputs": [],
   "source": [
    "from nltk.corpus import stopwords\n",
    "\n",
    "def fetch_token_features(row):\n",
    "    q1 = row['question1']\n",
    "    q2 = row['question2']\n",
    "\n",
    "    con = 0.00001\n",
    "\n",
    "    stop_words = stopwords.words(\"english\")\n",
    "\n",
    "    token_features = [0.0]*8\n",
    "    q1_tokens = q1.split()\n",
    "    q2_tokens = q2.split()\n",
    "\n",
    "    if len(q1_tokens) == 0 or len(q2_tokens) == 0:\n",
    "        return token_features\n",
    "\n",
    "    q1_words = set([word for word in q1_tokens if word not in stop_words])\n",
    "    q2_words = set([word for word in q2_tokens if word not in stop_words])\n",
    "    \n",
    "    q1_stops = set([word for word in q1_tokens if word in stop_words])\n",
    "    q2_stops = set([word for word in q2_tokens if word in stop_words])\n",
    "\n",
    "    common_word_count = len(q1_words.intersection(q2_words))\n",
    "    common_stop_count = len(q1_stops.intersection(q2_stops))\n",
    "    common_token_count = len(set(q1_tokens).intersection(set(q2_tokens)))\n",
    "\n",
    "    token_features[0] = common_word_count / (min(len(q1_words),len(q2_words)) + con)\n",
    "    token_features[1] = common_word_count / (max(len(q1_words),len(q2_words)) + con)\n",
    "    token_features[2] = common_stop_count / (min(len(q1_words),len(q2_words)) + con)\n",
    "    token_features[3] = common_stop_count / (max(len(q1_words),len(q2_words)) + con)\n",
    "    token_features[4] = common_token_count / (min(len(q1_words),len(q2_words)) + con)\n",
    "    token_features[5] = common_token_count / (max(len(q1_words),len(q2_words)) + con)\n",
    "    token_features[6] = int(q1_tokens[-1] == q2_tokens[-1])\n",
    "    token_features[7] = int(q1_tokens[0] == q2_tokens[0])\n",
    "\n",
    "    return token_features"
   ]
  },
  {
   "cell_type": "code",
   "execution_count": 14,
   "metadata": {
    "execution": {
     "iopub.execute_input": "2025-07-28T18:59:37.464219Z",
     "iopub.status.busy": "2025-07-28T18:59:37.463933Z",
     "iopub.status.idle": "2025-07-28T19:00:51.479801Z",
     "shell.execute_reply": "2025-07-28T19:00:51.479238Z",
     "shell.execute_reply.started": "2025-07-28T18:59:37.464197Z"
    },
    "trusted": true
   },
   "outputs": [],
   "source": [
    "token_features = df.apply(fetch_token_features,axis=1)\n",
    "df['cwc_min'] = list(map(lambda x: x[0],token_features))\n",
    "df['cwc_max'] = list(map(lambda x: x[1],token_features))\n",
    "df['csc_min'] = list(map(lambda x: x[2],token_features))\n",
    "df['csc_max'] = list(map(lambda x: x[3],token_features))\n",
    "df['ctc_min'] = list(map(lambda x: x[4],token_features))\n",
    "df['ctc_max'] = list(map(lambda x: x[5],token_features))\n",
    "df['last_word_eq'] = list(map(lambda x: x[6],token_features))\n",
    "df['first_word_eq'] = list(map(lambda x: x[7],token_features))"
   ]
  },
  {
   "cell_type": "code",
   "execution_count": 13,
   "metadata": {
    "execution": {
     "iopub.execute_input": "2025-07-28T19:00:51.480769Z",
     "iopub.status.busy": "2025-07-28T19:00:51.480543Z",
     "iopub.status.idle": "2025-07-28T19:00:57.241403Z",
     "shell.execute_reply": "2025-07-28T19:00:57.240592Z",
     "shell.execute_reply.started": "2025-07-28T19:00:51.480753Z"
    },
    "trusted": true
   },
   "outputs": [
    {
     "name": "stdout",
     "output_type": "stream",
     "text": [
      "Requirement already satisfied: distance in c:\\users\\vishw\\appdata\\local\\programs\\python\\python37-32\\lib\\site-packages (0.1.3)\n"
     ]
    }
   ],
   "source": [
    "!pip install distance"
   ]
  },
  {
   "cell_type": "code",
   "execution_count": 15,
   "metadata": {
    "execution": {
     "iopub.execute_input": "2025-07-28T19:00:57.242701Z",
     "iopub.status.busy": "2025-07-28T19:00:57.242495Z",
     "iopub.status.idle": "2025-07-28T19:00:57.253908Z",
     "shell.execute_reply": "2025-07-28T19:00:57.253159Z",
     "shell.execute_reply.started": "2025-07-28T19:00:57.242680Z"
    },
    "trusted": true
   },
   "outputs": [],
   "source": [
    "import distance\n",
    "\n",
    "def fetch_length_features(row):\n",
    "    q1 = row['question1']\n",
    "    q2 = row['question2']\n",
    "\n",
    "    length_features = [0.0] * 3\n",
    "\n",
    "    q1_tokens = q1.split()\n",
    "    q2_tokens = q2.split()\n",
    "\n",
    "    # Fix logic: should be `or len(q2_tokens) == 0`\n",
    "    if len(q1_tokens) == 0 or len(q2_tokens) == 0:\n",
    "        return length_features\n",
    "\n",
    "    length_features[0] = abs(len(q1_tokens) - len(q2_tokens))\n",
    "    length_features[1] = (len(q1_tokens) + len(q2_tokens)) / 2\n",
    "\n",
    "    strs = list(distance.lcsubstrings(q1, q2))\n",
    "    if len(strs) > 0:\n",
    "        length_features[2] = len(strs[0]) / (min(len(q1), len(q2)) + 1)\n",
    "    else:\n",
    "        length_features[2] = 0.0\n",
    "\n",
    "    return length_features\n"
   ]
  },
  {
   "cell_type": "code",
   "execution_count": 16,
   "metadata": {
    "execution": {
     "iopub.execute_input": "2025-07-28T19:00:57.254953Z",
     "iopub.status.busy": "2025-07-28T19:00:57.254666Z",
     "iopub.status.idle": "2025-07-28T19:04:05.203830Z",
     "shell.execute_reply": "2025-07-28T19:04:05.203243Z",
     "shell.execute_reply.started": "2025-07-28T19:00:57.254894Z"
    },
    "trusted": true
   },
   "outputs": [],
   "source": [
    "length_features = df.apply(fetch_length_features,axis=1)\n",
    "\n",
    "df['abs_len_diff'] = list(map(lambda x: x[0],length_features))\n",
    "df['mean_len'] = list(map(lambda x:x[1],length_features))\n",
    "df['longest_substr_ratio'] = list(map(lambda x: x[2],length_features))"
   ]
  },
  {
   "cell_type": "code",
   "execution_count": 17,
   "metadata": {
    "execution": {
     "iopub.execute_input": "2025-07-28T19:04:05.204804Z",
     "iopub.status.busy": "2025-07-28T19:04:05.204595Z",
     "iopub.status.idle": "2025-07-28T19:04:12.359025Z",
     "shell.execute_reply": "2025-07-28T19:04:12.358493Z",
     "shell.execute_reply.started": "2025-07-28T19:04:05.204788Z"
    },
    "trusted": true
   },
   "outputs": [],
   "source": [
    "df.to_csv('preprocessed1.csv', index=False)"
   ]
  },
  {
   "cell_type": "code",
   "execution_count": 19,
   "metadata": {
    "execution": {
     "iopub.execute_input": "2025-07-28T19:04:12.359948Z",
     "iopub.status.busy": "2025-07-28T19:04:12.359713Z",
     "iopub.status.idle": "2025-07-28T19:04:14.118735Z",
     "shell.execute_reply": "2025-07-28T19:04:14.118118Z",
     "shell.execute_reply.started": "2025-07-28T19:04:12.359923Z"
    },
    "trusted": true
   },
   "outputs": [],
   "source": [
    "df = pd.read_csv('preprocessed1.csv')"
   ]
  },
  {
   "cell_type": "code",
   "execution_count": 20,
   "metadata": {
    "execution": {
     "iopub.execute_input": "2025-07-28T19:04:14.119623Z",
     "iopub.status.busy": "2025-07-28T19:04:14.119410Z",
     "iopub.status.idle": "2025-07-28T19:04:21.986784Z",
     "shell.execute_reply": "2025-07-28T19:04:21.986036Z",
     "shell.execute_reply.started": "2025-07-28T19:04:14.119607Z"
    },
    "trusted": true
   },
   "outputs": [
    {
     "name": "stdout",
     "output_type": "stream",
     "text": [
      "Requirement already satisfied: fuzzywuzzy in c:\\users\\vishw\\appdata\\local\\programs\\python\\python37-32\\lib\\site-packages (0.18.0)\n",
      "Requirement already satisfied: Levenshtein in c:\\users\\vishw\\appdata\\local\\programs\\python\\python37-32\\lib\\site-packages (0.23.0)\n",
      "Requirement already satisfied: rapidfuzz<4.0.0,>=3.1.0 in c:\\users\\vishw\\appdata\\local\\programs\\python\\python37-32\\lib\\site-packages (from Levenshtein) (3.4.0)\n"
     ]
    }
   ],
   "source": [
    "!pip install fuzzywuzzy\n",
    "!pip install Levenshtein"
   ]
  },
  {
   "cell_type": "code",
   "execution_count": 21,
   "metadata": {
    "execution": {
     "iopub.execute_input": "2025-07-28T19:04:21.988421Z",
     "iopub.status.busy": "2025-07-28T19:04:21.988115Z",
     "iopub.status.idle": "2025-07-28T19:04:22.031098Z",
     "shell.execute_reply": "2025-07-28T19:04:22.030470Z",
     "shell.execute_reply.started": "2025-07-28T19:04:21.988387Z"
    },
    "trusted": true
   },
   "outputs": [
    {
     "data": {
      "text/plain": [
       "11"
      ]
     },
     "execution_count": 21,
     "metadata": {},
     "output_type": "execute_result"
    }
   ],
   "source": [
    "df['question2'].isnull().sum()"
   ]
  },
  {
   "cell_type": "code",
   "execution_count": 22,
   "metadata": {
    "execution": {
     "iopub.execute_input": "2025-07-28T19:04:22.032004Z",
     "iopub.status.busy": "2025-07-28T19:04:22.031763Z",
     "iopub.status.idle": "2025-07-28T19:04:22.173861Z",
     "shell.execute_reply": "2025-07-28T19:04:22.173253Z",
     "shell.execute_reply.started": "2025-07-28T19:04:22.031980Z"
    },
    "trusted": true
   },
   "outputs": [],
   "source": [
    "df.dropna(subset=['question1', 'question2'], inplace=True)"
   ]
  },
  {
   "cell_type": "code",
   "execution_count": 23,
   "metadata": {
    "execution": {
     "iopub.execute_input": "2025-07-28T19:04:22.174849Z",
     "iopub.status.busy": "2025-07-28T19:04:22.174595Z",
     "iopub.status.idle": "2025-07-28T19:04:22.206265Z",
     "shell.execute_reply": "2025-07-28T19:04:22.205803Z",
     "shell.execute_reply.started": "2025-07-28T19:04:22.174828Z"
    },
    "trusted": true
   },
   "outputs": [],
   "source": [
    "from fuzzywuzzy import fuzz\n",
    "def fetch_fuzzy_features(row):\n",
    "    q1 = row['question1']\n",
    "    q2 = row['question2']\n",
    "    fuzzy_features = [0.0]*4\n",
    "    fuzzy_features[0] = fuzz.ratio(q1,q2)\n",
    "    fuzzy_features[1] = fuzz.partial_ratio(q1,q2)\n",
    "    fuzzy_features[2] = fuzz.token_sort_ratio(q1,q2)\n",
    "    fuzzy_features[3] = fuzz.token_set_ratio(q1,q2)\n",
    "\n",
    "    return fuzzy_features"
   ]
  },
  {
   "cell_type": "code",
   "execution_count": 24,
   "metadata": {
    "execution": {
     "iopub.execute_input": "2025-07-28T19:04:22.207433Z",
     "iopub.status.busy": "2025-07-28T19:04:22.207022Z",
     "iopub.status.idle": "2025-07-28T19:04:56.096178Z",
     "shell.execute_reply": "2025-07-28T19:04:56.095370Z",
     "shell.execute_reply.started": "2025-07-28T19:04:22.207415Z"
    },
    "trusted": true
   },
   "outputs": [],
   "source": [
    "fuzzy_features = df.apply(fetch_fuzzy_features,axis=1)\n",
    "\n",
    "df['fuzz_ratio'] = list(map(lambda x:x[0],fuzzy_features))\n",
    "df['fuzz_partial_ratio'] = list(map(lambda x:x[1],fuzzy_features))\n",
    "df['token_sort_ratio'] = list(map(lambda x:x[2],fuzzy_features))\n",
    "df['token_set_ratio'] = list(map(lambda x:x[3],fuzzy_features))"
   ]
  },
  {
   "cell_type": "code",
   "execution_count": 25,
   "metadata": {
    "execution": {
     "iopub.execute_input": "2025-07-28T19:04:56.099085Z",
     "iopub.status.busy": "2025-07-28T19:04:56.098811Z",
     "iopub.status.idle": "2025-07-28T19:07:17.277598Z",
     "shell.execute_reply": "2025-07-28T19:07:17.276894Z",
     "shell.execute_reply.started": "2025-07-28T19:04:56.099062Z"
    },
    "trusted": true
   },
   "outputs": [
    {
     "data": {
      "text/plain": [
       "<seaborn.axisgrid.PairGrid at 0x21a53f31290>"
      ]
     },
     "execution_count": 25,
     "metadata": {},
     "output_type": "execute_result"
    },
    {
     "data": {
      "image/png": "[encoded data removed]",
      "text/plain": [
       "<Figure size 843.611x750 with 12 Axes>"
      ]
     },
     "metadata": {},
     "output_type": "display_data"
    }
   ],
   "source": [
    "import warnings\n",
    "warnings.simplefilter(action='ignore', category=FutureWarning)\n",
    "\n",
    "sns.pairplot(df[['ctc_min','cwc_min','csc_min','is_duplicate']],hue ='is_duplicate')"
   ]
  },
  {
   "cell_type": "code",
   "execution_count": 26,
   "metadata": {
    "execution": {
     "iopub.execute_input": "2025-07-28T19:07:17.278879Z",
     "iopub.status.busy": "2025-07-28T19:07:17.278589Z",
     "iopub.status.idle": "2025-07-28T19:07:17.284063Z",
     "shell.execute_reply": "2025-07-28T19:07:17.283351Z",
     "shell.execute_reply.started": "2025-07-28T19:07:17.278855Z"
    },
    "trusted": true
   },
   "outputs": [
    {
     "data": {
      "text/plain": [
       "Index(['id', 'qid1', 'qid2', 'question1', 'question2', 'is_duplicate',\n",
       "       'q1_len', 'q2_len', 'q1_num_words', 'q2_num_words', 'common_words',\n",
       "       'total_words', 'word_share', 'cwc_min', 'cwc_max', 'csc_min', 'csc_max',\n",
       "       'ctc_min', 'ctc_max', 'last_word_eq', 'first_word_eq', 'abs_len_diff',\n",
       "       'mean_len', 'longest_substr_ratio', 'fuzz_ratio', 'fuzz_partial_ratio',\n",
       "       'token_sort_ratio', 'token_set_ratio'],\n",
       "      dtype='object')"
      ]
     },
     "execution_count": 26,
     "metadata": {},
     "output_type": "execute_result"
    }
   ],
   "source": [
    "df.columns"
   ]
  },
  {
   "cell_type": "code",
   "execution_count": 27,
   "metadata": {
    "execution": {
     "iopub.execute_input": "2025-07-28T18:24:50.449023Z",
     "iopub.status.busy": "2025-07-28T18:24:50.448630Z",
     "iopub.status.idle": "2025-07-28T18:24:50.470645Z",
     "shell.execute_reply": "2025-07-28T18:24:50.470148Z",
     "shell.execute_reply.started": "2025-07-28T18:24:50.448998Z"
    },
    "trusted": true
   },
   "outputs": [],
   "source": [
    "ques_df = df[['question1','question2']]"
   ]
  },
  {
   "cell_type": "code",
   "execution_count": 28,
   "metadata": {
    "execution": {
     "iopub.execute_input": "2025-07-28T18:24:50.471510Z",
     "iopub.status.busy": "2025-07-28T18:24:50.471281Z",
     "iopub.status.idle": "2025-07-28T18:24:50.509548Z",
     "shell.execute_reply": "2025-07-28T18:24:50.508979Z",
     "shell.execute_reply.started": "2025-07-28T18:24:50.471485Z"
    },
    "trusted": true
   },
   "outputs": [
    {
     "name": "stdout",
     "output_type": "stream",
     "text": [
      "(404264, 23)\n"
     ]
    },
    {
     "data": {
      "text/html": [
       "<div>\n",
       "<style scoped>\n",
       "    .dataframe tbody tr th:only-of-type {\n",
       "        vertical-align: middle;\n",
       "    }\n",
       "\n",
       "    .dataframe tbody tr th {\n",
       "        vertical-align: top;\n",
       "    }\n",
       "\n",
       "    .dataframe thead th {\n",
       "        text-align: right;\n",
       "    }\n",
       "</style>\n",
       "<table border=\"1\" class=\"dataframe\">\n",
       "  <thead>\n",
       "    <tr style=\"text-align: right;\">\n",
       "      <th></th>\n",
       "      <th>is_duplicate</th>\n",
       "      <th>q1_len</th>\n",
       "      <th>q2_len</th>\n",
       "      <th>q1_num_words</th>\n",
       "      <th>q2_num_words</th>\n",
       "      <th>common_words</th>\n",
       "      <th>total_words</th>\n",
       "      <th>word_share</th>\n",
       "      <th>cwc_min</th>\n",
       "      <th>cwc_max</th>\n",
       "      <th>...</th>\n",
       "      <th>ctc_max</th>\n",
       "      <th>last_word_eq</th>\n",
       "      <th>first_word_eq</th>\n",
       "      <th>abs_len_diff</th>\n",
       "      <th>mean_len</th>\n",
       "      <th>longest_substr_ratio</th>\n",
       "      <th>fuzz_ratio</th>\n",
       "      <th>fuzz_partial_ratio</th>\n",
       "      <th>token_sort_ratio</th>\n",
       "      <th>token_set_ratio</th>\n",
       "    </tr>\n",
       "  </thead>\n",
       "  <tbody>\n",
       "    <tr>\n",
       "      <th>0</th>\n",
       "      <td>0</td>\n",
       "      <td>65</td>\n",
       "      <td>56</td>\n",
       "      <td>14</td>\n",
       "      <td>12</td>\n",
       "      <td>11</td>\n",
       "      <td>23</td>\n",
       "      <td>0.48</td>\n",
       "      <td>0.999998</td>\n",
       "      <td>0.833332</td>\n",
       "      <td>...</td>\n",
       "      <td>1.833330</td>\n",
       "      <td>0.0</td>\n",
       "      <td>1.0</td>\n",
       "      <td>2.0</td>\n",
       "      <td>13.0</td>\n",
       "      <td>0.982456</td>\n",
       "      <td>93</td>\n",
       "      <td>100</td>\n",
       "      <td>93</td>\n",
       "      <td>100</td>\n",
       "    </tr>\n",
       "    <tr>\n",
       "      <th>1</th>\n",
       "      <td>0</td>\n",
       "      <td>48</td>\n",
       "      <td>85</td>\n",
       "      <td>10</td>\n",
       "      <td>15</td>\n",
       "      <td>7</td>\n",
       "      <td>24</td>\n",
       "      <td>0.29</td>\n",
       "      <td>0.799998</td>\n",
       "      <td>0.400000</td>\n",
       "      <td>...</td>\n",
       "      <td>0.699999</td>\n",
       "      <td>0.0</td>\n",
       "      <td>1.0</td>\n",
       "      <td>5.0</td>\n",
       "      <td>12.5</td>\n",
       "      <td>0.571429</td>\n",
       "      <td>65</td>\n",
       "      <td>73</td>\n",
       "      <td>63</td>\n",
       "      <td>86</td>\n",
       "    </tr>\n",
       "    <tr>\n",
       "      <th>2</th>\n",
       "      <td>0</td>\n",
       "      <td>72</td>\n",
       "      <td>58</td>\n",
       "      <td>14</td>\n",
       "      <td>10</td>\n",
       "      <td>4</td>\n",
       "      <td>24</td>\n",
       "      <td>0.17</td>\n",
       "      <td>0.399999</td>\n",
       "      <td>0.333333</td>\n",
       "      <td>...</td>\n",
       "      <td>0.666666</td>\n",
       "      <td>0.0</td>\n",
       "      <td>1.0</td>\n",
       "      <td>4.0</td>\n",
       "      <td>12.0</td>\n",
       "      <td>0.169492</td>\n",
       "      <td>54</td>\n",
       "      <td>53</td>\n",
       "      <td>66</td>\n",
       "      <td>66</td>\n",
       "    </tr>\n",
       "    <tr>\n",
       "      <th>3</th>\n",
       "      <td>0</td>\n",
       "      <td>48</td>\n",
       "      <td>54</td>\n",
       "      <td>11</td>\n",
       "      <td>12</td>\n",
       "      <td>0</td>\n",
       "      <td>20</td>\n",
       "      <td>0.00</td>\n",
       "      <td>0.000000</td>\n",
       "      <td>0.000000</td>\n",
       "      <td>...</td>\n",
       "      <td>0.000000</td>\n",
       "      <td>0.0</td>\n",
       "      <td>0.0</td>\n",
       "      <td>1.0</td>\n",
       "      <td>11.5</td>\n",
       "      <td>0.040816</td>\n",
       "      <td>35</td>\n",
       "      <td>38</td>\n",
       "      <td>37</td>\n",
       "      <td>36</td>\n",
       "    </tr>\n",
       "    <tr>\n",
       "      <th>4</th>\n",
       "      <td>0</td>\n",
       "      <td>73</td>\n",
       "      <td>38</td>\n",
       "      <td>13</td>\n",
       "      <td>7</td>\n",
       "      <td>4</td>\n",
       "      <td>20</td>\n",
       "      <td>0.20</td>\n",
       "      <td>0.399999</td>\n",
       "      <td>0.200000</td>\n",
       "      <td>...</td>\n",
       "      <td>0.400000</td>\n",
       "      <td>0.0</td>\n",
       "      <td>1.0</td>\n",
       "      <td>6.0</td>\n",
       "      <td>10.0</td>\n",
       "      <td>0.153846</td>\n",
       "      <td>45</td>\n",
       "      <td>55</td>\n",
       "      <td>47</td>\n",
       "      <td>67</td>\n",
       "    </tr>\n",
       "  </tbody>\n",
       "</table>\n",
       "<p>5 rows × 23 columns</p>\n",
       "</div>"
      ],
      "text/plain": [
       "   is_duplicate  q1_len  q2_len  q1_num_words  q2_num_words  common_words  \\\n",
       "0             0      65      56            14            12            11   \n",
       "1             0      48      85            10            15             7   \n",
       "2             0      72      58            14            10             4   \n",
       "3             0      48      54            11            12             0   \n",
       "4             0      73      38            13             7             4   \n",
       "\n",
       "   total_words  word_share   cwc_min   cwc_max  ...   ctc_max  last_word_eq  \\\n",
       "0           23        0.48  0.999998  0.833332  ...  1.833330           0.0   \n",
       "1           24        0.29  0.799998  0.400000  ...  0.699999           0.0   \n",
       "2           24        0.17  0.399999  0.333333  ...  0.666666           0.0   \n",
       "3           20        0.00  0.000000  0.000000  ...  0.000000           0.0   \n",
       "4           20        0.20  0.399999  0.200000  ...  0.400000           0.0   \n",
       "\n",
       "   first_word_eq  abs_len_diff  mean_len  longest_substr_ratio  fuzz_ratio  \\\n",
       "0            1.0           2.0      13.0              0.982456          93   \n",
       "1            1.0           5.0      12.5              0.571429          65   \n",
       "2            1.0           4.0      12.0              0.169492          54   \n",
       "3            0.0           1.0      11.5              0.040816          35   \n",
       "4            1.0           6.0      10.0              0.153846          45   \n",
       "\n",
       "   fuzz_partial_ratio  token_sort_ratio  token_set_ratio  \n",
       "0                 100                93              100  \n",
       "1                  73                63               86  \n",
       "2                  53                66               66  \n",
       "3                  38                37               36  \n",
       "4                  55                47               67  \n",
       "\n",
       "[5 rows x 23 columns]"
      ]
     },
     "execution_count": 28,
     "metadata": {},
     "output_type": "execute_result"
    }
   ],
   "source": [
    "final_df = df.drop(columns = ['id','qid1','qid2','question1','question2'])\n",
    "print(final_df.shape)\n",
    "final_df.head()"
   ]
  },
  {
   "cell_type": "code",
   "execution_count": 29,
   "metadata": {
    "execution": {
     "iopub.execute_input": "2025-07-28T18:24:50.510870Z",
     "iopub.status.busy": "2025-07-28T18:24:50.510366Z",
     "iopub.status.idle": "2025-07-28T18:26:49.679289Z",
     "shell.execute_reply": "2025-07-28T18:26:49.678428Z",
     "shell.execute_reply.started": "2025-07-28T18:24:50.510847Z"
    },
    "trusted": true
   },
   "outputs": [
    {
     "name": "stderr",
     "output_type": "stream",
     "text": [
      "[nltk_data] Downloading package punkt to\n",
      "[nltk_data]     C:\\Users\\vishw\\AppData\\Roaming\\nltk_data...\n",
      "[nltk_data]   Package punkt is already up-to-date!\n"
     ]
    },
    {
     "ename": "LookupError",
     "evalue": "\n**********************************************************************\n  Resource \u001b[93mpunkt_tab\u001b[0m not found.\n  Please use the NLTK Downloader to obtain the resource:\n\n  \u001b[31m>>> import nltk\n  >>> nltk.download('punkt_tab')\n  \u001b[0m\n  For more information see: https://www.nltk.org/data.html\n\n  Attempted to load \u001b[93mtokenizers/punkt_tab/english/\u001b[0m\n\n  Searched in:\n    - 'C:\\\\Users\\\\vishw/nltk_data'\n    - 'd:\\\\Projects\\\\Quora-Question-Pairs\\\\.venv\\\\nltk_data'\n    - 'd:\\\\Projects\\\\Quora-Question-Pairs\\\\.venv\\\\share\\\\nltk_data'\n    - 'd:\\\\Projects\\\\Quora-Question-Pairs\\\\.venv\\\\lib\\\\nltk_data'\n    - 'C:\\\\Users\\\\vishw\\\\AppData\\\\Roaming\\\\nltk_data'\n    - 'C:\\\\nltk_data'\n    - 'D:\\\\nltk_data'\n    - 'E:\\\\nltk_data'\n**********************************************************************\n",
     "output_type": "error",
     "traceback": [
      "\u001b[31m---------------------------------------------------------------------------\u001b[39m",
      "\u001b[31mLookupError\u001b[39m                               Traceback (most recent call last)",
      "\u001b[36mCell\u001b[39m\u001b[36m \u001b[39m\u001b[32mIn[29]\u001b[39m\u001b[32m, line 8\u001b[39m\n\u001b[32m      4\u001b[39m nltk.download(\u001b[33m'\u001b[39m\u001b[33mpunkt\u001b[39m\u001b[33m'\u001b[39m)\n\u001b[32m      7\u001b[39m sentences = ques_df[\u001b[33m'\u001b[39m\u001b[33mquestion1\u001b[39m\u001b[33m'\u001b[39m].dropna().tolist() + ques_df[\u001b[33m'\u001b[39m\u001b[33mquestion2\u001b[39m\u001b[33m'\u001b[39m].dropna().tolist()\n\u001b[32m----> \u001b[39m\u001b[32m8\u001b[39m tokenized_sentences = \u001b[43m[\u001b[49m\u001b[43mword_tokenize\u001b[49m\u001b[43m(\u001b[49m\u001b[38;5;28;43mstr\u001b[39;49m\u001b[43m(\u001b[49m\u001b[43mq\u001b[49m\u001b[43m)\u001b[49m\u001b[43m.\u001b[49m\u001b[43mlower\u001b[49m\u001b[43m(\u001b[49m\u001b[43m)\u001b[49m\u001b[43m)\u001b[49m\u001b[43m \u001b[49m\u001b[38;5;28;43;01mfor\u001b[39;49;00m\u001b[43m \u001b[49m\u001b[43mq\u001b[49m\u001b[43m \u001b[49m\u001b[38;5;129;43;01min\u001b[39;49;00m\u001b[43m \u001b[49m\u001b[43msentences\u001b[49m\u001b[43m]\u001b[49m\n\u001b[32m     10\u001b[39m w2v_model = Word2Vec(sentences=tokenized_sentences, vector_size=\u001b[32m300\u001b[39m, window=\u001b[32m5\u001b[39m, min_count=\u001b[32m1\u001b[39m, workers=\u001b[32m4\u001b[39m)\n",
      "\u001b[36mCell\u001b[39m\u001b[36m \u001b[39m\u001b[32mIn[29]\u001b[39m\u001b[32m, line 8\u001b[39m, in \u001b[36m<listcomp>\u001b[39m\u001b[34m(.0)\u001b[39m\n\u001b[32m      4\u001b[39m nltk.download(\u001b[33m'\u001b[39m\u001b[33mpunkt\u001b[39m\u001b[33m'\u001b[39m)\n\u001b[32m      7\u001b[39m sentences = ques_df[\u001b[33m'\u001b[39m\u001b[33mquestion1\u001b[39m\u001b[33m'\u001b[39m].dropna().tolist() + ques_df[\u001b[33m'\u001b[39m\u001b[33mquestion2\u001b[39m\u001b[33m'\u001b[39m].dropna().tolist()\n\u001b[32m----> \u001b[39m\u001b[32m8\u001b[39m tokenized_sentences = [\u001b[43mword_tokenize\u001b[49m\u001b[43m(\u001b[49m\u001b[38;5;28;43mstr\u001b[39;49m\u001b[43m(\u001b[49m\u001b[43mq\u001b[49m\u001b[43m)\u001b[49m\u001b[43m.\u001b[49m\u001b[43mlower\u001b[49m\u001b[43m(\u001b[49m\u001b[43m)\u001b[49m\u001b[43m)\u001b[49m \u001b[38;5;28;01mfor\u001b[39;00m q \u001b[38;5;129;01min\u001b[39;00m sentences]\n\u001b[32m     10\u001b[39m w2v_model = Word2Vec(sentences=tokenized_sentences, vector_size=\u001b[32m300\u001b[39m, window=\u001b[32m5\u001b[39m, min_count=\u001b[32m1\u001b[39m, workers=\u001b[32m4\u001b[39m)\n",
      "\u001b[36mFile \u001b[39m\u001b[32md:\\Projects\\Quora-Question-Pairs\\.venv\\Lib\\site-packages\\nltk\\tokenize\\__init__.py:142\u001b[39m, in \u001b[36mword_tokenize\u001b[39m\u001b[34m(text, language, preserve_line)\u001b[39m\n\u001b[32m    127\u001b[39m \u001b[38;5;28;01mdef\u001b[39;00m\u001b[38;5;250m \u001b[39m\u001b[34mword_tokenize\u001b[39m(text, language=\u001b[33m\"\u001b[39m\u001b[33menglish\u001b[39m\u001b[33m\"\u001b[39m, preserve_line=\u001b[38;5;28;01mFalse\u001b[39;00m):\n\u001b[32m    128\u001b[39m \u001b[38;5;250m    \u001b[39m\u001b[33;03m\"\"\"\u001b[39;00m\n\u001b[32m    129\u001b[39m \u001b[33;03m    Return a tokenized copy of *text*,\u001b[39;00m\n\u001b[32m    130\u001b[39m \u001b[33;03m    using NLTK's recommended word tokenizer\u001b[39;00m\n\u001b[32m   (...)\u001b[39m\u001b[32m    140\u001b[39m \u001b[33;03m    :type preserve_line: bool\u001b[39;00m\n\u001b[32m    141\u001b[39m \u001b[33;03m    \"\"\"\u001b[39;00m\n\u001b[32m--> \u001b[39m\u001b[32m142\u001b[39m     sentences = [text] \u001b[38;5;28;01mif\u001b[39;00m preserve_line \u001b[38;5;28;01melse\u001b[39;00m \u001b[43msent_tokenize\u001b[49m\u001b[43m(\u001b[49m\u001b[43mtext\u001b[49m\u001b[43m,\u001b[49m\u001b[43m \u001b[49m\u001b[43mlanguage\u001b[49m\u001b[43m)\u001b[49m\n\u001b[32m    143\u001b[39m     \u001b[38;5;28;01mreturn\u001b[39;00m [\n\u001b[32m    144\u001b[39m         token \u001b[38;5;28;01mfor\u001b[39;00m sent \u001b[38;5;129;01min\u001b[39;00m sentences \u001b[38;5;28;01mfor\u001b[39;00m token \u001b[38;5;129;01min\u001b[39;00m _treebank_word_tokenizer.tokenize(sent)\n\u001b[32m    145\u001b[39m     ]\n",
      "\u001b[36mFile \u001b[39m\u001b[32md:\\Projects\\Quora-Question-Pairs\\.venv\\Lib\\site-packages\\nltk\\tokenize\\__init__.py:119\u001b[39m, in \u001b[36msent_tokenize\u001b[39m\u001b[34m(text, language)\u001b[39m\n\u001b[32m    109\u001b[39m \u001b[38;5;28;01mdef\u001b[39;00m\u001b[38;5;250m \u001b[39m\u001b[34msent_tokenize\u001b[39m(text, language=\u001b[33m\"\u001b[39m\u001b[33menglish\u001b[39m\u001b[33m\"\u001b[39m):\n\u001b[32m    110\u001b[39m \u001b[38;5;250m    \u001b[39m\u001b[33;03m\"\"\"\u001b[39;00m\n\u001b[32m    111\u001b[39m \u001b[33;03m    Return a sentence-tokenized copy of *text*,\u001b[39;00m\n\u001b[32m    112\u001b[39m \u001b[33;03m    using NLTK's recommended sentence tokenizer\u001b[39;00m\n\u001b[32m   (...)\u001b[39m\u001b[32m    117\u001b[39m \u001b[33;03m    :param language: the model name in the Punkt corpus\u001b[39;00m\n\u001b[32m    118\u001b[39m \u001b[33;03m    \"\"\"\u001b[39;00m\n\u001b[32m--> \u001b[39m\u001b[32m119\u001b[39m     tokenizer = \u001b[43m_get_punkt_tokenizer\u001b[49m\u001b[43m(\u001b[49m\u001b[43mlanguage\u001b[49m\u001b[43m)\u001b[49m\n\u001b[32m    120\u001b[39m     \u001b[38;5;28;01mreturn\u001b[39;00m tokenizer.tokenize(text)\n",
      "\u001b[36mFile \u001b[39m\u001b[32md:\\Projects\\Quora-Question-Pairs\\.venv\\Lib\\site-packages\\nltk\\tokenize\\__init__.py:105\u001b[39m, in \u001b[36m_get_punkt_tokenizer\u001b[39m\u001b[34m(language)\u001b[39m\n\u001b[32m     96\u001b[39m \u001b[38;5;129m@functools\u001b[39m.lru_cache\n\u001b[32m     97\u001b[39m \u001b[38;5;28;01mdef\u001b[39;00m\u001b[38;5;250m \u001b[39m\u001b[34m_get_punkt_tokenizer\u001b[39m(language=\u001b[33m\"\u001b[39m\u001b[33menglish\u001b[39m\u001b[33m\"\u001b[39m):\n\u001b[32m     98\u001b[39m \u001b[38;5;250m    \u001b[39m\u001b[33;03m\"\"\"\u001b[39;00m\n\u001b[32m     99\u001b[39m \u001b[33;03m    A constructor for the PunktTokenizer that utilizes\u001b[39;00m\n\u001b[32m    100\u001b[39m \u001b[33;03m    a lru cache for performance.\u001b[39;00m\n\u001b[32m   (...)\u001b[39m\u001b[32m    103\u001b[39m \u001b[33;03m    :type language: str\u001b[39;00m\n\u001b[32m    104\u001b[39m \u001b[33;03m    \"\"\"\u001b[39;00m\n\u001b[32m--> \u001b[39m\u001b[32m105\u001b[39m     \u001b[38;5;28;01mreturn\u001b[39;00m \u001b[43mPunktTokenizer\u001b[49m\u001b[43m(\u001b[49m\u001b[43mlanguage\u001b[49m\u001b[43m)\u001b[49m\n",
      "\u001b[36mFile \u001b[39m\u001b[32md:\\Projects\\Quora-Question-Pairs\\.venv\\Lib\\site-packages\\nltk\\tokenize\\punkt.py:1744\u001b[39m, in \u001b[36mPunktTokenizer.__init__\u001b[39m\u001b[34m(self, lang)\u001b[39m\n\u001b[32m   1742\u001b[39m \u001b[38;5;28;01mdef\u001b[39;00m\u001b[38;5;250m \u001b[39m\u001b[34m__init__\u001b[39m(\u001b[38;5;28mself\u001b[39m, lang=\u001b[33m\"\u001b[39m\u001b[33menglish\u001b[39m\u001b[33m\"\u001b[39m):\n\u001b[32m   1743\u001b[39m     PunktSentenceTokenizer.\u001b[34m__init__\u001b[39m(\u001b[38;5;28mself\u001b[39m)\n\u001b[32m-> \u001b[39m\u001b[32m1744\u001b[39m     \u001b[38;5;28;43mself\u001b[39;49m\u001b[43m.\u001b[49m\u001b[43mload_lang\u001b[49m\u001b[43m(\u001b[49m\u001b[43mlang\u001b[49m\u001b[43m)\u001b[49m\n",
      "\u001b[36mFile \u001b[39m\u001b[32md:\\Projects\\Quora-Question-Pairs\\.venv\\Lib\\site-packages\\nltk\\tokenize\\punkt.py:1749\u001b[39m, in \u001b[36mPunktTokenizer.load_lang\u001b[39m\u001b[34m(self, lang)\u001b[39m\n\u001b[32m   1746\u001b[39m \u001b[38;5;28;01mdef\u001b[39;00m\u001b[38;5;250m \u001b[39m\u001b[34mload_lang\u001b[39m(\u001b[38;5;28mself\u001b[39m, lang=\u001b[33m\"\u001b[39m\u001b[33menglish\u001b[39m\u001b[33m\"\u001b[39m):\n\u001b[32m   1747\u001b[39m     \u001b[38;5;28;01mfrom\u001b[39;00m\u001b[38;5;250m \u001b[39m\u001b[34;01mnltk\u001b[39;00m\u001b[34;01m.\u001b[39;00m\u001b[34;01mdata\u001b[39;00m\u001b[38;5;250m \u001b[39m\u001b[38;5;28;01mimport\u001b[39;00m find\n\u001b[32m-> \u001b[39m\u001b[32m1749\u001b[39m     lang_dir = \u001b[43mfind\u001b[49m\u001b[43m(\u001b[49m\u001b[33;43mf\u001b[39;49m\u001b[33;43m\"\u001b[39;49m\u001b[33;43mtokenizers/punkt_tab/\u001b[39;49m\u001b[38;5;132;43;01m{\u001b[39;49;00m\u001b[43mlang\u001b[49m\u001b[38;5;132;43;01m}\u001b[39;49;00m\u001b[33;43m/\u001b[39;49m\u001b[33;43m\"\u001b[39;49m\u001b[43m)\u001b[49m\n\u001b[32m   1750\u001b[39m     \u001b[38;5;28mself\u001b[39m._params = load_punkt_params(lang_dir)\n\u001b[32m   1751\u001b[39m     \u001b[38;5;28mself\u001b[39m._lang = lang\n",
      "\u001b[36mFile \u001b[39m\u001b[32md:\\Projects\\Quora-Question-Pairs\\.venv\\Lib\\site-packages\\nltk\\data.py:579\u001b[39m, in \u001b[36mfind\u001b[39m\u001b[34m(resource_name, paths)\u001b[39m\n\u001b[32m    577\u001b[39m sep = \u001b[33m\"\u001b[39m\u001b[33m*\u001b[39m\u001b[33m\"\u001b[39m * \u001b[32m70\u001b[39m\n\u001b[32m    578\u001b[39m resource_not_found = \u001b[33mf\u001b[39m\u001b[33m\"\u001b[39m\u001b[38;5;130;01m\\n\u001b[39;00m\u001b[38;5;132;01m{\u001b[39;00msep\u001b[38;5;132;01m}\u001b[39;00m\u001b[38;5;130;01m\\n\u001b[39;00m\u001b[38;5;132;01m{\u001b[39;00mmsg\u001b[38;5;132;01m}\u001b[39;00m\u001b[38;5;130;01m\\n\u001b[39;00m\u001b[38;5;132;01m{\u001b[39;00msep\u001b[38;5;132;01m}\u001b[39;00m\u001b[38;5;130;01m\\n\u001b[39;00m\u001b[33m\"\u001b[39m\n\u001b[32m--> \u001b[39m\u001b[32m579\u001b[39m \u001b[38;5;28;01mraise\u001b[39;00m \u001b[38;5;167;01mLookupError\u001b[39;00m(resource_not_found)\n",
      "\u001b[31mLookupError\u001b[39m: \n**********************************************************************\n  Resource \u001b[93mpunkt_tab\u001b[0m not found.\n  Please use the NLTK Downloader to obtain the resource:\n\n  \u001b[31m>>> import nltk\n  >>> nltk.download('punkt_tab')\n  \u001b[0m\n  For more information see: https://www.nltk.org/data.html\n\n  Attempted to load \u001b[93mtokenizers/punkt_tab/english/\u001b[0m\n\n  Searched in:\n    - 'C:\\\\Users\\\\vishw/nltk_data'\n    - 'd:\\\\Projects\\\\Quora-Question-Pairs\\\\.venv\\\\nltk_data'\n    - 'd:\\\\Projects\\\\Quora-Question-Pairs\\\\.venv\\\\share\\\\nltk_data'\n    - 'd:\\\\Projects\\\\Quora-Question-Pairs\\\\.venv\\\\lib\\\\nltk_data'\n    - 'C:\\\\Users\\\\vishw\\\\AppData\\\\Roaming\\\\nltk_data'\n    - 'C:\\\\nltk_data'\n    - 'D:\\\\nltk_data'\n    - 'E:\\\\nltk_data'\n**********************************************************************\n"
     ]
    }
   ],
   "source": [
    "from gensim.models import Word2Vec\n",
    "from nltk.tokenize import word_tokenize\n",
    "import nltk\n",
    "nltk.download('punkt')\n",
    "\n",
    "\n",
    "sentences = ques_df['question1'].dropna().tolist() + ques_df['question2'].dropna().tolist()\n",
    "tokenized_sentences = [word_tokenize(str(q).lower()) for q in sentences]\n",
    "\n",
    "w2v_model = Word2Vec(sentences=tokenized_sentences, vector_size=300, window=5, min_count=1, workers=4)\n"
   ]
  },
  {
   "cell_type": "code",
   "execution_count": 29,
   "metadata": {
    "execution": {
     "iopub.execute_input": "2025-07-28T18:26:49.681045Z",
     "iopub.status.busy": "2025-07-28T18:26:49.680277Z",
     "iopub.status.idle": "2025-07-28T18:26:49.690604Z",
     "shell.execute_reply": "2025-07-28T18:26:49.689860Z",
     "shell.execute_reply.started": "2025-07-28T18:26:49.681015Z"
    },
    "trusted": true
   },
   "outputs": [],
   "source": [
    "import numpy as np\n",
    "\n",
    "def get_question_vector(question, model, vector_size=300):\n",
    "    words = word_tokenize(str(question).lower())\n",
    "    vecs = [model.wv[word] for word in words if word in model.wv]\n",
    "    \n",
    "    if len(vecs) == 0:\n",
    "        return np.zeros(vector_size)  # fallback if no known words\n",
    "    \n",
    "    return np.mean(vecs, axis=0)\n"
   ]
  },
  {
   "cell_type": "code",
   "execution_count": 30,
   "metadata": {
    "execution": {
     "iopub.execute_input": "2025-07-28T18:26:49.691673Z",
     "iopub.status.busy": "2025-07-28T18:26:49.691399Z",
     "iopub.status.idle": "2025-07-28T18:28:12.519674Z",
     "shell.execute_reply": "2025-07-28T18:28:12.518822Z",
     "shell.execute_reply.started": "2025-07-28T18:26:49.691657Z"
    },
    "trusted": true
   },
   "outputs": [
    {
     "name": "stderr",
     "output_type": "stream",
     "text": [
      "/tmp/ipykernel_150/1677200700.py:1: SettingWithCopyWarning: \n",
      "A value is trying to be set on a copy of a slice from a DataFrame.\n",
      "Try using .loc[row_indexer,col_indexer] = value instead\n",
      "\n",
      "See the caveats in the documentation: https://pandas.pydata.org/pandas-docs/stable/user_guide/indexing.html#returning-a-view-versus-a-copy\n",
      "  ques_df['q1_w2v'] = ques_df['question1'].apply(lambda x: get_question_vector(x, w2v_model))\n",
      "/tmp/ipykernel_150/1677200700.py:2: SettingWithCopyWarning: \n",
      "A value is trying to be set on a copy of a slice from a DataFrame.\n",
      "Try using .loc[row_indexer,col_indexer] = value instead\n",
      "\n",
      "See the caveats in the documentation: https://pandas.pydata.org/pandas-docs/stable/user_guide/indexing.html#returning-a-view-versus-a-copy\n",
      "  ques_df['q2_w2v'] = ques_df['question2'].apply(lambda x: get_question_vector(x, w2v_model))\n"
     ]
    }
   ],
   "source": [
    "ques_df['q1_w2v'] = ques_df['question1'].apply(lambda x: get_question_vector(x, w2v_model))\n",
    "ques_df['q2_w2v'] = ques_df['question2'].apply(lambda x: get_question_vector(x, w2v_model))"
   ]
  },
  {
   "cell_type": "code",
   "execution_count": 31,
   "metadata": {
    "execution": {
     "iopub.execute_input": "2025-07-28T18:28:12.520930Z",
     "iopub.status.busy": "2025-07-28T18:28:12.520634Z",
     "iopub.status.idle": "2025-07-28T18:28:12.561557Z",
     "shell.execute_reply": "2025-07-28T18:28:12.560809Z",
     "shell.execute_reply.started": "2025-07-28T18:28:12.520904Z"
    },
    "trusted": true
   },
   "outputs": [
    {
     "name": "stderr",
     "output_type": "stream",
     "text": [
      "/tmp/ipykernel_150/4252799642.py:1: SettingWithCopyWarning: \n",
      "A value is trying to be set on a copy of a slice from a DataFrame\n",
      "\n",
      "See the caveats in the documentation: https://pandas.pydata.org/pandas-docs/stable/user_guide/indexing.html#returning-a-view-versus-a-copy\n",
      "  ques_df.drop(columns = ['question1','question2'],inplace = True)\n"
     ]
    }
   ],
   "source": [
    "ques_df.drop(columns = ['question1','question2'],inplace = True)"
   ]
  },
  {
   "cell_type": "code",
   "execution_count": 32,
   "metadata": {
    "execution": {
     "iopub.execute_input": "2025-07-28T18:28:12.562558Z",
     "iopub.status.busy": "2025-07-28T18:28:12.562342Z",
     "iopub.status.idle": "2025-07-28T18:28:20.900133Z",
     "shell.execute_reply": "2025-07-28T18:28:20.899339Z",
     "shell.execute_reply.started": "2025-07-28T18:28:12.562535Z"
    },
    "trusted": true
   },
   "outputs": [
    {
     "name": "stderr",
     "output_type": "stream",
     "text": [
      "/tmp/ipykernel_150/574843547.py:8: SettingWithCopyWarning: \n",
      "A value is trying to be set on a copy of a slice from a DataFrame.\n",
      "Try using .loc[row_indexer,col_indexer] = value instead\n",
      "\n",
      "See the caveats in the documentation: https://pandas.pydata.org/pandas-docs/stable/user_guide/indexing.html#returning-a-view-versus-a-copy\n",
      "  ques_df['combined_w2v'] = ques_df.apply(combine_vectors, axis=1)\n"
     ]
    }
   ],
   "source": [
    "import numpy as np\n",
    "\n",
    "def combine_vectors(row):\n",
    "    q1 = np.array(row['q1_w2v'])\n",
    "    q2 = np.array(row['q2_w2v'])\n",
    "    return np.concatenate([q1, q2, np.abs(q1 - q2), (q1 + q2) / 2])  # 1200-dim\n",
    "\n",
    "ques_df['combined_w2v'] = ques_df.apply(combine_vectors, axis=1)\n",
    "\n"
   ]
  },
  {
   "cell_type": "code",
   "execution_count": 33,
   "metadata": {
    "execution": {
     "iopub.execute_input": "2025-07-28T18:28:20.901253Z",
     "iopub.status.busy": "2025-07-28T18:28:20.900952Z",
     "iopub.status.idle": "2025-07-28T18:28:21.901305Z",
     "shell.execute_reply": "2025-07-28T18:28:21.900726Z",
     "shell.execute_reply.started": "2025-07-28T18:28:20.901226Z"
    },
    "trusted": true
   },
   "outputs": [],
   "source": [
    "w2v_array = np.vstack(ques_df['combined_w2v'].values)  # shape: (num_rows, 1200)\n",
    "\n",
    "w2v_df = pd.DataFrame(w2v_array, columns=[f'w2v_{i}' for i in range(w2v_array.shape[1])])\n"
   ]
  },
  {
   "cell_type": "code",
   "execution_count": 34,
   "metadata": {
    "execution": {
     "iopub.execute_input": "2025-07-28T18:28:21.902399Z",
     "iopub.status.busy": "2025-07-28T18:28:21.902103Z",
     "iopub.status.idle": "2025-07-28T18:28:25.181151Z",
     "shell.execute_reply": "2025-07-28T18:28:25.180565Z",
     "shell.execute_reply.started": "2025-07-28T18:28:21.902380Z"
    },
    "trusted": true
   },
   "outputs": [],
   "source": [
    "# Reset index if needed\n",
    "final_df = final_df.reset_index(drop=True)\n",
    "w2v_df = w2v_df.reset_index(drop=True)\n",
    "\n",
    "# Final dataset\n",
    "final_dataset = pd.concat([final_df, w2v_df], axis=1)\n"
   ]
  },
  {
   "cell_type": "code",
   "execution_count": 35,
   "metadata": {
    "execution": {
     "iopub.execute_input": "2025-07-28T18:28:25.182194Z",
     "iopub.status.busy": "2025-07-28T18:28:25.181961Z",
     "iopub.status.idle": "2025-07-28T18:36:54.864652Z",
     "shell.execute_reply": "2025-07-28T18:36:54.863768Z",
     "shell.execute_reply.started": "2025-07-28T18:28:25.182178Z"
    },
    "trusted": true
   },
   "outputs": [],
   "source": [
    "final_dataset.to_csv('preprocessed2.csv', index=False)"
   ]
  },
  {
   "cell_type": "code",
   "execution_count": 30,
   "metadata": {
    "execution": {
     "execution_failed": "2025-07-28T18:15:09.482Z",
     "iopub.execute_input": "2025-07-28T18:13:43.667026Z",
     "iopub.status.busy": "2025-07-28T18:13:43.666818Z"
    },
    "trusted": true
   },
   "outputs": [
    {
     "ename": "KeyboardInterrupt",
     "evalue": "",
     "output_type": "error",
     "traceback": [
      "\u001b[31m---------------------------------------------------------------------------\u001b[39m",
      "\u001b[31mKeyboardInterrupt\u001b[39m                         Traceback (most recent call last)",
      "\u001b[36mCell\u001b[39m\u001b[36m \u001b[39m\u001b[32mIn[30]\u001b[39m\u001b[32m, line 2\u001b[39m\n\u001b[32m      1\u001b[39m \u001b[38;5;28;01mimport\u001b[39;00m\u001b[38;5;250m \u001b[39m\u001b[34;01mpandas\u001b[39;00m\u001b[38;5;250m \u001b[39m\u001b[38;5;28;01mas\u001b[39;00m\u001b[38;5;250m \u001b[39m\u001b[34;01mpd\u001b[39;00m\n\u001b[32m----> \u001b[39m\u001b[32m2\u001b[39m final_dataset = \u001b[43mpd\u001b[49m\u001b[43m.\u001b[49m\u001b[43mread_csv\u001b[49m\u001b[43m(\u001b[49m\u001b[33;43m'\u001b[39;49m\u001b[33;43mpreprocessed2.csv\u001b[39;49m\u001b[33;43m'\u001b[39;49m\u001b[43m)\u001b[49m\n",
      "\u001b[36mFile \u001b[39m\u001b[32md:\\Projects\\Quora-Question-Pairs\\.venv\\Lib\\site-packages\\pandas\\io\\parsers\\readers.py:1026\u001b[39m, in \u001b[36mread_csv\u001b[39m\u001b[34m(filepath_or_buffer, sep, delimiter, header, names, index_col, usecols, dtype, engine, converters, true_values, false_values, skipinitialspace, skiprows, skipfooter, nrows, na_values, keep_default_na, na_filter, verbose, skip_blank_lines, parse_dates, infer_datetime_format, keep_date_col, date_parser, date_format, dayfirst, cache_dates, iterator, chunksize, compression, thousands, decimal, lineterminator, quotechar, quoting, doublequote, escapechar, comment, encoding, encoding_errors, dialect, on_bad_lines, delim_whitespace, low_memory, memory_map, float_precision, storage_options, dtype_backend)\u001b[39m\n\u001b[32m   1013\u001b[39m kwds_defaults = _refine_defaults_read(\n\u001b[32m   1014\u001b[39m     dialect,\n\u001b[32m   1015\u001b[39m     delimiter,\n\u001b[32m   (...)\u001b[39m\u001b[32m   1022\u001b[39m     dtype_backend=dtype_backend,\n\u001b[32m   1023\u001b[39m )\n\u001b[32m   1024\u001b[39m kwds.update(kwds_defaults)\n\u001b[32m-> \u001b[39m\u001b[32m1026\u001b[39m \u001b[38;5;28;01mreturn\u001b[39;00m \u001b[43m_read\u001b[49m\u001b[43m(\u001b[49m\u001b[43mfilepath_or_buffer\u001b[49m\u001b[43m,\u001b[49m\u001b[43m \u001b[49m\u001b[43mkwds\u001b[49m\u001b[43m)\u001b[49m\n",
      "\u001b[36mFile \u001b[39m\u001b[32md:\\Projects\\Quora-Question-Pairs\\.venv\\Lib\\site-packages\\pandas\\io\\parsers\\readers.py:625\u001b[39m, in \u001b[36m_read\u001b[39m\u001b[34m(filepath_or_buffer, kwds)\u001b[39m\n\u001b[32m    622\u001b[39m \u001b[38;5;28;01mif\u001b[39;00m chunksize \u001b[38;5;129;01mor\u001b[39;00m iterator:\n\u001b[32m    623\u001b[39m     \u001b[38;5;28;01mreturn\u001b[39;00m parser\n\u001b[32m--> \u001b[39m\u001b[32m625\u001b[39m \u001b[43m\u001b[49m\u001b[38;5;28;43;01mwith\u001b[39;49;00m\u001b[43m \u001b[49m\u001b[43mparser\u001b[49m\u001b[43m:\u001b[49m\n\u001b[32m    626\u001b[39m \u001b[43m    \u001b[49m\u001b[38;5;28;43;01mreturn\u001b[39;49;00m\u001b[43m \u001b[49m\u001b[43mparser\u001b[49m\u001b[43m.\u001b[49m\u001b[43mread\u001b[49m\u001b[43m(\u001b[49m\u001b[43mnrows\u001b[49m\u001b[43m)\u001b[49m\n",
      "\u001b[36mFile \u001b[39m\u001b[32md:\\Projects\\Quora-Question-Pairs\\.venv\\Lib\\site-packages\\pandas\\io\\parsers\\readers.py:1996\u001b[39m, in \u001b[36mTextFileReader.__exit__\u001b[39m\u001b[34m(self, exc_type, exc_value, traceback)\u001b[39m\n\u001b[32m   1990\u001b[39m \u001b[38;5;28;01mdef\u001b[39;00m\u001b[38;5;250m \u001b[39m\u001b[34m__exit__\u001b[39m(\n\u001b[32m   1991\u001b[39m     \u001b[38;5;28mself\u001b[39m,\n\u001b[32m   1992\u001b[39m     exc_type: \u001b[38;5;28mtype\u001b[39m[\u001b[38;5;167;01mBaseException\u001b[39;00m] | \u001b[38;5;28;01mNone\u001b[39;00m,\n\u001b[32m   1993\u001b[39m     exc_value: \u001b[38;5;167;01mBaseException\u001b[39;00m | \u001b[38;5;28;01mNone\u001b[39;00m,\n\u001b[32m   1994\u001b[39m     traceback: TracebackType | \u001b[38;5;28;01mNone\u001b[39;00m,\n\u001b[32m   1995\u001b[39m ) -> \u001b[38;5;28;01mNone\u001b[39;00m:\n\u001b[32m-> \u001b[39m\u001b[32m1996\u001b[39m     \u001b[38;5;28;43mself\u001b[39;49m\u001b[43m.\u001b[49m\u001b[43mclose\u001b[49m\u001b[43m(\u001b[49m\u001b[43m)\u001b[49m\n",
      "\u001b[36mFile \u001b[39m\u001b[32md:\\Projects\\Quora-Question-Pairs\\.venv\\Lib\\site-packages\\pandas\\io\\parsers\\readers.py:1622\u001b[39m, in \u001b[36mTextFileReader.close\u001b[39m\u001b[34m(self)\u001b[39m\n\u001b[32m   1619\u001b[39m     \u001b[38;5;28mself\u001b[39m.handles: IOHandles | \u001b[38;5;28;01mNone\u001b[39;00m = \u001b[38;5;28;01mNone\u001b[39;00m\n\u001b[32m   1620\u001b[39m     \u001b[38;5;28mself\u001b[39m._engine = \u001b[38;5;28mself\u001b[39m._make_engine(f, \u001b[38;5;28mself\u001b[39m.engine)\n\u001b[32m-> \u001b[39m\u001b[32m1622\u001b[39m \u001b[38;5;28;01mdef\u001b[39;00m\u001b[38;5;250m \u001b[39m\u001b[34mclose\u001b[39m(\u001b[38;5;28mself\u001b[39m) -> \u001b[38;5;28;01mNone\u001b[39;00m:\n\u001b[32m   1623\u001b[39m     \u001b[38;5;28;01mif\u001b[39;00m \u001b[38;5;28mself\u001b[39m.handles \u001b[38;5;129;01mis\u001b[39;00m \u001b[38;5;129;01mnot\u001b[39;00m \u001b[38;5;28;01mNone\u001b[39;00m:\n\u001b[32m   1624\u001b[39m         \u001b[38;5;28mself\u001b[39m.handles.close()\n",
      "\u001b[31mKeyboardInterrupt\u001b[39m: "
     ]
    }
   ],
   "source": [
    "import pandas as pd\n",
    "final_dataset = pd.read_csv('preprocessed2.csv')"
   ]
  },
  {
   "cell_type": "code",
   "execution_count": 37,
   "metadata": {
    "execution": {
     "iopub.execute_input": "2025-07-28T18:45:15.069312Z",
     "iopub.status.busy": "2025-07-28T18:45:15.068604Z",
     "iopub.status.idle": "2025-07-28T18:45:15.086793Z",
     "shell.execute_reply": "2025-07-28T18:45:15.086075Z",
     "shell.execute_reply.started": "2025-07-28T18:45:15.069283Z"
    },
    "trusted": true
   },
   "outputs": [
    {
     "data": {
      "text/html": [
       "<div>\n",
       "<style scoped>\n",
       "    .dataframe tbody tr th:only-of-type {\n",
       "        vertical-align: middle;\n",
       "    }\n",
       "\n",
       "    .dataframe tbody tr th {\n",
       "        vertical-align: top;\n",
       "    }\n",
       "\n",
       "    .dataframe thead th {\n",
       "        text-align: right;\n",
       "    }\n",
       "</style>\n",
       "<table border=\"1\" class=\"dataframe\">\n",
       "  <thead>\n",
       "    <tr style=\"text-align: right;\">\n",
       "      <th></th>\n",
       "      <th>is_duplicate</th>\n",
       "      <th>q1_len</th>\n",
       "      <th>q2_len</th>\n",
       "      <th>q1_num_words</th>\n",
       "      <th>q2_num_words</th>\n",
       "      <th>common_words</th>\n",
       "      <th>total_words</th>\n",
       "      <th>word_share</th>\n",
       "      <th>cwc_min</th>\n",
       "      <th>cwc_max</th>\n",
       "      <th>...</th>\n",
       "      <th>w2v_1190</th>\n",
       "      <th>w2v_1191</th>\n",
       "      <th>w2v_1192</th>\n",
       "      <th>w2v_1193</th>\n",
       "      <th>w2v_1194</th>\n",
       "      <th>w2v_1195</th>\n",
       "      <th>w2v_1196</th>\n",
       "      <th>w2v_1197</th>\n",
       "      <th>w2v_1198</th>\n",
       "      <th>w2v_1199</th>\n",
       "    </tr>\n",
       "  </thead>\n",
       "  <tbody>\n",
       "    <tr>\n",
       "      <th>0</th>\n",
       "      <td>0</td>\n",
       "      <td>65</td>\n",
       "      <td>56</td>\n",
       "      <td>14</td>\n",
       "      <td>12</td>\n",
       "      <td>11</td>\n",
       "      <td>23</td>\n",
       "      <td>0.48</td>\n",
       "      <td>0.999998</td>\n",
       "      <td>0.833332</td>\n",
       "      <td>...</td>\n",
       "      <td>-0.012036</td>\n",
       "      <td>-0.478869</td>\n",
       "      <td>0.019346</td>\n",
       "      <td>-0.151996</td>\n",
       "      <td>0.611626</td>\n",
       "      <td>0.114850</td>\n",
       "      <td>-0.067586</td>\n",
       "      <td>0.201313</td>\n",
       "      <td>-0.348655</td>\n",
       "      <td>0.010924</td>\n",
       "    </tr>\n",
       "    <tr>\n",
       "      <th>1</th>\n",
       "      <td>0</td>\n",
       "      <td>48</td>\n",
       "      <td>85</td>\n",
       "      <td>10</td>\n",
       "      <td>15</td>\n",
       "      <td>7</td>\n",
       "      <td>24</td>\n",
       "      <td>0.29</td>\n",
       "      <td>0.799998</td>\n",
       "      <td>0.400000</td>\n",
       "      <td>...</td>\n",
       "      <td>0.025913</td>\n",
       "      <td>0.101785</td>\n",
       "      <td>0.056396</td>\n",
       "      <td>0.052043</td>\n",
       "      <td>0.309359</td>\n",
       "      <td>0.230839</td>\n",
       "      <td>-0.304012</td>\n",
       "      <td>0.126145</td>\n",
       "      <td>-0.251210</td>\n",
       "      <td>-0.098099</td>\n",
       "    </tr>\n",
       "    <tr>\n",
       "      <th>2</th>\n",
       "      <td>0</td>\n",
       "      <td>72</td>\n",
       "      <td>58</td>\n",
       "      <td>14</td>\n",
       "      <td>10</td>\n",
       "      <td>4</td>\n",
       "      <td>24</td>\n",
       "      <td>0.17</td>\n",
       "      <td>0.399999</td>\n",
       "      <td>0.333333</td>\n",
       "      <td>...</td>\n",
       "      <td>-0.210656</td>\n",
       "      <td>-0.038959</td>\n",
       "      <td>0.106432</td>\n",
       "      <td>0.531784</td>\n",
       "      <td>-0.147194</td>\n",
       "      <td>0.031205</td>\n",
       "      <td>-0.040818</td>\n",
       "      <td>-0.026742</td>\n",
       "      <td>-0.408026</td>\n",
       "      <td>0.175911</td>\n",
       "    </tr>\n",
       "    <tr>\n",
       "      <th>3</th>\n",
       "      <td>0</td>\n",
       "      <td>48</td>\n",
       "      <td>54</td>\n",
       "      <td>11</td>\n",
       "      <td>12</td>\n",
       "      <td>0</td>\n",
       "      <td>20</td>\n",
       "      <td>0.00</td>\n",
       "      <td>0.000000</td>\n",
       "      <td>0.000000</td>\n",
       "      <td>...</td>\n",
       "      <td>-0.037517</td>\n",
       "      <td>0.770194</td>\n",
       "      <td>0.181761</td>\n",
       "      <td>0.289284</td>\n",
       "      <td>0.045875</td>\n",
       "      <td>0.045160</td>\n",
       "      <td>-0.326065</td>\n",
       "      <td>0.314531</td>\n",
       "      <td>-0.263781</td>\n",
       "      <td>0.157755</td>\n",
       "    </tr>\n",
       "    <tr>\n",
       "      <th>4</th>\n",
       "      <td>0</td>\n",
       "      <td>73</td>\n",
       "      <td>38</td>\n",
       "      <td>13</td>\n",
       "      <td>7</td>\n",
       "      <td>4</td>\n",
       "      <td>20</td>\n",
       "      <td>0.20</td>\n",
       "      <td>0.399999</td>\n",
       "      <td>0.200000</td>\n",
       "      <td>...</td>\n",
       "      <td>0.229112</td>\n",
       "      <td>0.486949</td>\n",
       "      <td>0.549471</td>\n",
       "      <td>0.402707</td>\n",
       "      <td>0.170940</td>\n",
       "      <td>0.761959</td>\n",
       "      <td>0.077390</td>\n",
       "      <td>-0.347106</td>\n",
       "      <td>0.084743</td>\n",
       "      <td>-0.240273</td>\n",
       "    </tr>\n",
       "  </tbody>\n",
       "</table>\n",
       "<p>5 rows × 1223 columns</p>\n",
       "</div>"
      ],
      "text/plain": [
       "   is_duplicate  q1_len  q2_len  q1_num_words  q2_num_words  common_words  \\\n",
       "0             0      65      56            14            12            11   \n",
       "1             0      48      85            10            15             7   \n",
       "2             0      72      58            14            10             4   \n",
       "3             0      48      54            11            12             0   \n",
       "4             0      73      38            13             7             4   \n",
       "\n",
       "   total_words  word_share   cwc_min   cwc_max  ...  w2v_1190  w2v_1191  \\\n",
       "0           23        0.48  0.999998  0.833332  ... -0.012036 -0.478869   \n",
       "1           24        0.29  0.799998  0.400000  ...  0.025913  0.101785   \n",
       "2           24        0.17  0.399999  0.333333  ... -0.210656 -0.038959   \n",
       "3           20        0.00  0.000000  0.000000  ... -0.037517  0.770194   \n",
       "4           20        0.20  0.399999  0.200000  ...  0.229112  0.486949   \n",
       "\n",
       "   w2v_1192  w2v_1193  w2v_1194  w2v_1195  w2v_1196  w2v_1197  w2v_1198  \\\n",
       "0  0.019346 -0.151996  0.611626  0.114850 -0.067586  0.201313 -0.348655   \n",
       "1  0.056396  0.052043  0.309359  0.230839 -0.304012  0.126145 -0.251210   \n",
       "2  0.106432  0.531784 -0.147194  0.031205 -0.040818 -0.026742 -0.408026   \n",
       "3  0.181761  0.289284  0.045875  0.045160 -0.326065  0.314531 -0.263781   \n",
       "4  0.549471  0.402707  0.170940  0.761959  0.077390 -0.347106  0.084743   \n",
       "\n",
       "   w2v_1199  \n",
       "0  0.010924  \n",
       "1 -0.098099  \n",
       "2  0.175911  \n",
       "3  0.157755  \n",
       "4 -0.240273  \n",
       "\n",
       "[5 rows x 1223 columns]"
      ]
     },
     "execution_count": 37,
     "metadata": {},
     "output_type": "execute_result"
    }
   ],
   "source": [
    "final_dataset.head()"
   ]
  },
  {
   "cell_type": "code",
   "execution_count": 38,
   "metadata": {
    "execution": {
     "iopub.execute_input": "2025-07-28T18:45:17.609032Z",
     "iopub.status.busy": "2025-07-28T18:45:17.608727Z",
     "iopub.status.idle": "2025-07-28T18:45:18.180413Z",
     "shell.execute_reply": "2025-07-28T18:45:18.179800Z",
     "shell.execute_reply.started": "2025-07-28T18:45:17.609010Z"
    },
    "trusted": true
   },
   "outputs": [],
   "source": [
    "X = final_dataset.iloc[:,1:]\n",
    "y = final_dataset.iloc[:,0]"
   ]
  },
  {
   "cell_type": "code",
   "execution_count": 39,
   "metadata": {
    "execution": {
     "iopub.execute_input": "2025-07-28T18:45:19.223396Z",
     "iopub.status.busy": "2025-07-28T18:45:19.223102Z",
     "iopub.status.idle": "2025-07-28T18:45:19.240262Z",
     "shell.execute_reply": "2025-07-28T18:45:19.239572Z",
     "shell.execute_reply.started": "2025-07-28T18:45:19.223374Z"
    },
    "trusted": true
   },
   "outputs": [
    {
     "data": {
      "text/html": [
       "<div>\n",
       "<style scoped>\n",
       "    .dataframe tbody tr th:only-of-type {\n",
       "        vertical-align: middle;\n",
       "    }\n",
       "\n",
       "    .dataframe tbody tr th {\n",
       "        vertical-align: top;\n",
       "    }\n",
       "\n",
       "    .dataframe thead th {\n",
       "        text-align: right;\n",
       "    }\n",
       "</style>\n",
       "<table border=\"1\" class=\"dataframe\">\n",
       "  <thead>\n",
       "    <tr style=\"text-align: right;\">\n",
       "      <th></th>\n",
       "      <th>q1_len</th>\n",
       "      <th>q2_len</th>\n",
       "      <th>q1_num_words</th>\n",
       "      <th>q2_num_words</th>\n",
       "      <th>common_words</th>\n",
       "      <th>total_words</th>\n",
       "      <th>word_share</th>\n",
       "      <th>cwc_min</th>\n",
       "      <th>cwc_max</th>\n",
       "      <th>csc_min</th>\n",
       "      <th>...</th>\n",
       "      <th>w2v_1190</th>\n",
       "      <th>w2v_1191</th>\n",
       "      <th>w2v_1192</th>\n",
       "      <th>w2v_1193</th>\n",
       "      <th>w2v_1194</th>\n",
       "      <th>w2v_1195</th>\n",
       "      <th>w2v_1196</th>\n",
       "      <th>w2v_1197</th>\n",
       "      <th>w2v_1198</th>\n",
       "      <th>w2v_1199</th>\n",
       "    </tr>\n",
       "  </thead>\n",
       "  <tbody>\n",
       "    <tr>\n",
       "      <th>0</th>\n",
       "      <td>65</td>\n",
       "      <td>56</td>\n",
       "      <td>14</td>\n",
       "      <td>12</td>\n",
       "      <td>11</td>\n",
       "      <td>23</td>\n",
       "      <td>0.48</td>\n",
       "      <td>0.999998</td>\n",
       "      <td>0.833332</td>\n",
       "      <td>1.199998</td>\n",
       "      <td>...</td>\n",
       "      <td>-0.012036</td>\n",
       "      <td>-0.478869</td>\n",
       "      <td>0.019346</td>\n",
       "      <td>-0.151996</td>\n",
       "      <td>0.611626</td>\n",
       "      <td>0.114850</td>\n",
       "      <td>-0.067586</td>\n",
       "      <td>0.201313</td>\n",
       "      <td>-0.348655</td>\n",
       "      <td>0.010924</td>\n",
       "    </tr>\n",
       "    <tr>\n",
       "      <th>1</th>\n",
       "      <td>48</td>\n",
       "      <td>85</td>\n",
       "      <td>10</td>\n",
       "      <td>15</td>\n",
       "      <td>7</td>\n",
       "      <td>24</td>\n",
       "      <td>0.29</td>\n",
       "      <td>0.799998</td>\n",
       "      <td>0.400000</td>\n",
       "      <td>0.599999</td>\n",
       "      <td>...</td>\n",
       "      <td>0.025913</td>\n",
       "      <td>0.101785</td>\n",
       "      <td>0.056396</td>\n",
       "      <td>0.052043</td>\n",
       "      <td>0.309359</td>\n",
       "      <td>0.230839</td>\n",
       "      <td>-0.304012</td>\n",
       "      <td>0.126145</td>\n",
       "      <td>-0.251210</td>\n",
       "      <td>-0.098099</td>\n",
       "    </tr>\n",
       "    <tr>\n",
       "      <th>2</th>\n",
       "      <td>72</td>\n",
       "      <td>58</td>\n",
       "      <td>14</td>\n",
       "      <td>10</td>\n",
       "      <td>4</td>\n",
       "      <td>24</td>\n",
       "      <td>0.17</td>\n",
       "      <td>0.399999</td>\n",
       "      <td>0.333333</td>\n",
       "      <td>0.399999</td>\n",
       "      <td>...</td>\n",
       "      <td>-0.210656</td>\n",
       "      <td>-0.038959</td>\n",
       "      <td>0.106432</td>\n",
       "      <td>0.531784</td>\n",
       "      <td>-0.147194</td>\n",
       "      <td>0.031205</td>\n",
       "      <td>-0.040818</td>\n",
       "      <td>-0.026742</td>\n",
       "      <td>-0.408026</td>\n",
       "      <td>0.175911</td>\n",
       "    </tr>\n",
       "    <tr>\n",
       "      <th>3</th>\n",
       "      <td>48</td>\n",
       "      <td>54</td>\n",
       "      <td>11</td>\n",
       "      <td>12</td>\n",
       "      <td>0</td>\n",
       "      <td>20</td>\n",
       "      <td>0.00</td>\n",
       "      <td>0.000000</td>\n",
       "      <td>0.000000</td>\n",
       "      <td>0.000000</td>\n",
       "      <td>...</td>\n",
       "      <td>-0.037517</td>\n",
       "      <td>0.770194</td>\n",
       "      <td>0.181761</td>\n",
       "      <td>0.289284</td>\n",
       "      <td>0.045875</td>\n",
       "      <td>0.045160</td>\n",
       "      <td>-0.326065</td>\n",
       "      <td>0.314531</td>\n",
       "      <td>-0.263781</td>\n",
       "      <td>0.157755</td>\n",
       "    </tr>\n",
       "    <tr>\n",
       "      <th>4</th>\n",
       "      <td>73</td>\n",
       "      <td>38</td>\n",
       "      <td>13</td>\n",
       "      <td>7</td>\n",
       "      <td>4</td>\n",
       "      <td>20</td>\n",
       "      <td>0.20</td>\n",
       "      <td>0.399999</td>\n",
       "      <td>0.200000</td>\n",
       "      <td>0.399999</td>\n",
       "      <td>...</td>\n",
       "      <td>0.229112</td>\n",
       "      <td>0.486949</td>\n",
       "      <td>0.549471</td>\n",
       "      <td>0.402707</td>\n",
       "      <td>0.170940</td>\n",
       "      <td>0.761959</td>\n",
       "      <td>0.077390</td>\n",
       "      <td>-0.347106</td>\n",
       "      <td>0.084743</td>\n",
       "      <td>-0.240273</td>\n",
       "    </tr>\n",
       "  </tbody>\n",
       "</table>\n",
       "<p>5 rows × 1222 columns</p>\n",
       "</div>"
      ],
      "text/plain": [
       "   q1_len  q2_len  q1_num_words  q2_num_words  common_words  total_words  \\\n",
       "0      65      56            14            12            11           23   \n",
       "1      48      85            10            15             7           24   \n",
       "2      72      58            14            10             4           24   \n",
       "3      48      54            11            12             0           20   \n",
       "4      73      38            13             7             4           20   \n",
       "\n",
       "   word_share   cwc_min   cwc_max   csc_min  ...  w2v_1190  w2v_1191  \\\n",
       "0        0.48  0.999998  0.833332  1.199998  ... -0.012036 -0.478869   \n",
       "1        0.29  0.799998  0.400000  0.599999  ...  0.025913  0.101785   \n",
       "2        0.17  0.399999  0.333333  0.399999  ... -0.210656 -0.038959   \n",
       "3        0.00  0.000000  0.000000  0.000000  ... -0.037517  0.770194   \n",
       "4        0.20  0.399999  0.200000  0.399999  ...  0.229112  0.486949   \n",
       "\n",
       "   w2v_1192  w2v_1193  w2v_1194  w2v_1195  w2v_1196  w2v_1197  w2v_1198  \\\n",
       "0  0.019346 -0.151996  0.611626  0.114850 -0.067586  0.201313 -0.348655   \n",
       "1  0.056396  0.052043  0.309359  0.230839 -0.304012  0.126145 -0.251210   \n",
       "2  0.106432  0.531784 -0.147194  0.031205 -0.040818 -0.026742 -0.408026   \n",
       "3  0.181761  0.289284  0.045875  0.045160 -0.326065  0.314531 -0.263781   \n",
       "4  0.549471  0.402707  0.170940  0.761959  0.077390 -0.347106  0.084743   \n",
       "\n",
       "   w2v_1199  \n",
       "0  0.010924  \n",
       "1 -0.098099  \n",
       "2  0.175911  \n",
       "3  0.157755  \n",
       "4 -0.240273  \n",
       "\n",
       "[5 rows x 1222 columns]"
      ]
     },
     "execution_count": 39,
     "metadata": {},
     "output_type": "execute_result"
    }
   ],
   "source": [
    "X.head()"
   ]
  },
  {
   "cell_type": "code",
   "execution_count": 40,
   "metadata": {
    "execution": {
     "iopub.execute_input": "2025-07-28T18:45:20.063485Z",
     "iopub.status.busy": "2025-07-28T18:45:20.063214Z",
     "iopub.status.idle": "2025-07-28T18:45:22.408680Z",
     "shell.execute_reply": "2025-07-28T18:45:22.408010Z",
     "shell.execute_reply.started": "2025-07-28T18:45:20.063468Z"
    },
    "trusted": true
   },
   "outputs": [],
   "source": [
    "from sklearn.model_selection import train_test_split\n",
    "X_train,y_train,y_train,y_test = train_test_split(X,y,test_size = 0.2,random_state=42)"
   ]
  },
  {
   "cell_type": "code",
   "execution_count": 41,
   "metadata": {
    "execution": {
     "iopub.execute_input": "2025-07-28T18:47:33.704013Z",
     "iopub.status.busy": "2025-07-28T18:47:33.703635Z",
     "iopub.status.idle": "2025-07-28T18:48:36.084114Z",
     "shell.execute_reply": "2025-07-28T18:48:36.083301Z",
     "shell.execute_reply.started": "2025-07-28T18:47:33.703989Z"
    },
    "trusted": true
   },
   "outputs": [
    {
     "name": "stderr",
     "output_type": "stream",
     "text": [
      "2025-07-28 18:47:35.138866: E external/local_xla/xla/stream_executor/cuda/cuda_fft.cc:477] Unable to register cuFFT factory: Attempting to register factory for plugin cuFFT when one has already been registered\n",
      "WARNING: All log messages before absl::InitializeLog() is called are written to STDERR\n",
      "E0000 00:00:1753728455.352241     150 cuda_dnn.cc:8310] Unable to register cuDNN factory: Attempting to register factory for plugin cuDNN when one has already been registered\n",
      "E0000 00:00:1753728455.414257     150 cuda_blas.cc:1418] Unable to register cuBLAS factory: Attempting to register factory for plugin cuBLAS when one has already been registered\n",
      "/usr/local/lib/python3.11/dist-packages/keras/src/layers/core/dense.py:87: UserWarning: Do not pass an `input_shape`/`input_dim` argument to a layer. When using Sequential models, prefer using an `Input(shape)` object as the first layer in the model instead.\n",
      "  super().__init__(activity_regularizer=activity_regularizer, **kwargs)\n",
      "I0000 00:00:1753728468.084582     150 gpu_device.cc:2022] Created device /job:localhost/replica:0/task:0/device:GPU:0 with 13942 MB memory:  -> device: 0, name: Tesla T4, pci bus id: 0000:00:04.0, compute capability: 7.5\n",
      "I0000 00:00:1753728468.085239     150 gpu_device.cc:2022] Created device /job:localhost/replica:0/task:0/device:GPU:1 with 13942 MB memory:  -> device: 1, name: Tesla T4, pci bus id: 0000:00:05.0, compute capability: 7.5\n"
     ]
    },
    {
     "name": "stdout",
     "output_type": "stream",
     "text": [
      "Epoch 1/20\n"
     ]
    },
    {
     "name": "stderr",
     "output_type": "stream",
     "text": [
      "WARNING: All log messages before absl::InitializeLog() is called are written to STDERR\n",
      "I0000 00:00:1753728478.780766     246 service.cc:148] XLA service 0x7fc53404dcf0 initialized for platform CUDA (this does not guarantee that XLA will be used). Devices:\n",
      "I0000 00:00:1753728478.781473     246 service.cc:156]   StreamExecutor device (0): Tesla T4, Compute Capability 7.5\n",
      "I0000 00:00:1753728478.781496     246 service.cc:156]   StreamExecutor device (1): Tesla T4, Compute Capability 7.5\n",
      "I0000 00:00:1753728479.085436     246 cuda_dnn.cc:529] Loaded cuDNN version 90300\n"
     ]
    },
    {
     "name": "stdout",
     "output_type": "stream",
     "text": [
      "\u001b[1m 37/316\u001b[0m \u001b[32m━━\u001b[0m\u001b[37m━━━━━━━━━━━━━━━━━━\u001b[0m \u001b[1m1s\u001b[0m 4ms/step - accuracy: 0.6811 - loss: 0.6005"
     ]
    },
    {
     "name": "stderr",
     "output_type": "stream",
     "text": [
      "I0000 00:00:1753728481.183188     246 device_compiler.h:188] Compiled cluster using XLA!  This line is logged at most once for the lifetime of the process.\n"
     ]
    },
    {
     "name": "stdout",
     "output_type": "stream",
     "text": [
      "\u001b[1m316/316\u001b[0m \u001b[32m━━━━━━━━━━━━━━━━━━━━\u001b[0m\u001b[37m\u001b[0m \u001b[1m10s\u001b[0m 18ms/step - accuracy: 0.7496 - loss: 0.4853 - val_accuracy: 0.7663 - val_loss: 0.4479\n",
      "Epoch 2/20\n",
      "\u001b[1m316/316\u001b[0m \u001b[32m━━━━━━━━━━━━━━━━━━━━\u001b[0m\u001b[37m\u001b[0m \u001b[1m2s\u001b[0m 5ms/step - accuracy: 0.7960 - loss: 0.4111 - val_accuracy: 0.7888 - val_loss: 0.4185\n",
      "Epoch 3/20\n",
      "\u001b[1m316/316\u001b[0m \u001b[32m━━━━━━━━━━━━━━━━━━━━\u001b[0m\u001b[37m\u001b[0m \u001b[1m2s\u001b[0m 5ms/step - accuracy: 0.8074 - loss: 0.3938 - val_accuracy: 0.8003 - val_loss: 0.4013\n",
      "Epoch 4/20\n",
      "\u001b[1m316/316\u001b[0m \u001b[32m━━━━━━━━━━━━━━━━━━━━\u001b[0m\u001b[37m\u001b[0m \u001b[1m1s\u001b[0m 5ms/step - accuracy: 0.8124 - loss: 0.3846 - val_accuracy: 0.7913 - val_loss: 0.4154\n",
      "Epoch 5/20\n",
      "\u001b[1m316/316\u001b[0m \u001b[32m━━━━━━━━━━━━━━━━━━━━\u001b[0m\u001b[37m\u001b[0m \u001b[1m1s\u001b[0m 4ms/step - accuracy: 0.8171 - loss: 0.3772 - val_accuracy: 0.8086 - val_loss: 0.3902\n",
      "Epoch 6/20\n",
      "\u001b[1m316/316\u001b[0m \u001b[32m━━━━━━━━━━━━━━━━━━━━\u001b[0m\u001b[37m\u001b[0m \u001b[1m1s\u001b[0m 5ms/step - accuracy: 0.8192 - loss: 0.3746 - val_accuracy: 0.7977 - val_loss: 0.4132\n",
      "Epoch 7/20\n",
      "\u001b[1m316/316\u001b[0m \u001b[32m━━━━━━━━━━━━━━━━━━━━\u001b[0m\u001b[37m\u001b[0m \u001b[1m1s\u001b[0m 5ms/step - accuracy: 0.8233 - loss: 0.3684 - val_accuracy: 0.8076 - val_loss: 0.3980\n",
      "Epoch 8/20\n",
      "\u001b[1m316/316\u001b[0m \u001b[32m━━━━━━━━━━━━━━━━━━━━\u001b[0m\u001b[37m\u001b[0m \u001b[1m2s\u001b[0m 5ms/step - accuracy: 0.8242 - loss: 0.3649 - val_accuracy: 0.8163 - val_loss: 0.3881\n",
      "Epoch 9/20\n",
      "\u001b[1m316/316\u001b[0m \u001b[32m━━━━━━━━━━━━━━━━━━━━\u001b[0m\u001b[37m\u001b[0m \u001b[1m1s\u001b[0m 5ms/step - accuracy: 0.8269 - loss: 0.3624 - val_accuracy: 0.8144 - val_loss: 0.3816\n",
      "Epoch 10/20\n",
      "\u001b[1m316/316\u001b[0m \u001b[32m━━━━━━━━━━━━━━━━━━━━\u001b[0m\u001b[37m\u001b[0m \u001b[1m1s\u001b[0m 5ms/step - accuracy: 0.8279 - loss: 0.3595 - val_accuracy: 0.8137 - val_loss: 0.3859\n",
      "Epoch 11/20\n",
      "\u001b[1m316/316\u001b[0m \u001b[32m━━━━━━━━━━━━━━━━━━━━\u001b[0m\u001b[37m\u001b[0m \u001b[1m1s\u001b[0m 5ms/step - accuracy: 0.8286 - loss: 0.3576 - val_accuracy: 0.8240 - val_loss: 0.3741\n",
      "Epoch 12/20\n",
      "\u001b[1m316/316\u001b[0m \u001b[32m━━━━━━━━━━━━━━━━━━━━\u001b[0m\u001b[37m\u001b[0m \u001b[1m1s\u001b[0m 4ms/step - accuracy: 0.8313 - loss: 0.3558 - val_accuracy: 0.8172 - val_loss: 0.3780\n",
      "Epoch 13/20\n",
      "\u001b[1m316/316\u001b[0m \u001b[32m━━━━━━━━━━━━━━━━━━━━\u001b[0m\u001b[37m\u001b[0m \u001b[1m1s\u001b[0m 5ms/step - accuracy: 0.8319 - loss: 0.3537 - val_accuracy: 0.8078 - val_loss: 0.3868\n",
      "Epoch 14/20\n",
      "\u001b[1m316/316\u001b[0m \u001b[32m━━━━━━━━━━━━━━━━━━━━\u001b[0m\u001b[37m\u001b[0m \u001b[1m1s\u001b[0m 5ms/step - accuracy: 0.8339 - loss: 0.3503 - val_accuracy: 0.8225 - val_loss: 0.3687\n",
      "Epoch 15/20\n",
      "\u001b[1m316/316\u001b[0m \u001b[32m━━━━━━━━━━━━━━━━━━━━\u001b[0m\u001b[37m\u001b[0m \u001b[1m2s\u001b[0m 5ms/step - accuracy: 0.8344 - loss: 0.3490 - val_accuracy: 0.8134 - val_loss: 0.3863\n",
      "Epoch 16/20\n",
      "\u001b[1m316/316\u001b[0m \u001b[32m━━━━━━━━━━━━━━━━━━━━\u001b[0m\u001b[37m\u001b[0m \u001b[1m2s\u001b[0m 5ms/step - accuracy: 0.8353 - loss: 0.3492 - val_accuracy: 0.8107 - val_loss: 0.4471\n",
      "Epoch 17/20\n",
      "\u001b[1m316/316\u001b[0m \u001b[32m━━━━━━━━━━━━━━━━━━━━\u001b[0m\u001b[37m\u001b[0m \u001b[1m2s\u001b[0m 5ms/step - accuracy: 0.8358 - loss: 0.3445 - val_accuracy: 0.8224 - val_loss: 0.3692\n",
      "Epoch 18/20\n",
      "\u001b[1m316/316\u001b[0m \u001b[32m━━━━━━━━━━━━━━━━━━━━\u001b[0m\u001b[37m\u001b[0m \u001b[1m2s\u001b[0m 5ms/step - accuracy: 0.8381 - loss: 0.3423 - val_accuracy: 0.8198 - val_loss: 0.3745\n",
      "Epoch 19/20\n",
      "\u001b[1m316/316\u001b[0m \u001b[32m━━━━━━━━━━━━━━━━━━━━\u001b[0m\u001b[37m\u001b[0m \u001b[1m2s\u001b[0m 5ms/step - accuracy: 0.8378 - loss: 0.3428 - val_accuracy: 0.8132 - val_loss: 0.3827\n",
      "Epoch 20/20\n",
      "\u001b[1m316/316\u001b[0m \u001b[32m━━━━━━━━━━━━━━━━━━━━\u001b[0m\u001b[37m\u001b[0m \u001b[1m2s\u001b[0m 5ms/step - accuracy: 0.8383 - loss: 0.3410 - val_accuracy: 0.8078 - val_loss: 0.3825\n"
     ]
    },
    {
     "data": {
      "text/plain": [
       "<keras.src.callbacks.history.History at 0x7fc605b679d0>"
      ]
     },
     "execution_count": 41,
     "metadata": {},
     "output_type": "execute_result"
    }
   ],
   "source": [
    "from tensorflow.keras.layers import Dense,Dropout,BatchNormalization\n",
    "from tensorflow.keras.models import Sequential\n",
    "\n",
    "model = Sequential()\n",
    "model.add(Dense(512, activation='relu', input_shape=(final_dataset.shape[1]-1,)),)\n",
    "model.add(BatchNormalization()),\n",
    "model.add(Dropout(0.3)),\n",
    "model.add(Dense(256,activation='relu')),\n",
    "model.add(Dropout(0.2)),\n",
    "model.add(Dense(1,activation='sigmoid'))\n",
    "\n",
    "model.compile(optimizer='Adam',loss = 'binary_crossentropy',metrics = ['accuracy'])\n",
    "model.fit(X, y, batch_size=1024, epochs=20, validation_split=0.2)"
   ]
  },
  {
   "cell_type": "code",
   "execution_count": 42,
   "metadata": {
    "execution": {
     "iopub.execute_input": "2025-07-28T18:48:46.148558Z",
     "iopub.status.busy": "2025-07-28T18:48:46.147776Z",
     "iopub.status.idle": "2025-07-28T18:48:46.208502Z",
     "shell.execute_reply": "2025-07-28T18:48:46.207889Z",
     "shell.execute_reply.started": "2025-07-28T18:48:46.148504Z"
    },
    "trusted": true
   },
   "outputs": [],
   "source": [
    "model.save('duplicate_question_model.h5')"
   ]
  },
  {
   "cell_type": "code",
   "execution_count": 36,
   "metadata": {
    "execution": {
     "iopub.execute_input": "2025-07-28T18:36:54.865889Z",
     "iopub.status.busy": "2025-07-28T18:36:54.865616Z",
     "iopub.status.idle": "2025-07-28T18:36:55.051880Z",
     "shell.execute_reply": "2025-07-28T18:36:55.051239Z",
     "shell.execute_reply.started": "2025-07-28T18:36:54.865865Z"
    },
    "trusted": true
   },
   "outputs": [],
   "source": [
    "w2v_model.save(\"w2v.model\")"
   ]
  },
  {
   "cell_type": "code",
   "execution_count": null,
   "metadata": {
    "trusted": true
   },
   "outputs": [],
   "source": []
  }
 ],
 "metadata": {
  "kaggle": {
   "accelerator": "nvidiaTeslaT4",
   "dataSources": [
    {
     "databundleVersionId": 323734,
     "sourceId": 6277,
     "sourceType": "competition"
    },
    {
     "datasetId": 7112122,
     "sourceId": 11363043,
     "sourceType": "datasetVersion"
    }
   ],
   "dockerImageVersionId": 31012,
   "isGpuEnabled": true,
   "isInternetEnabled": true,
   "language": "python",
   "sourceType": "notebook"
  },
  "kernelspec": {
   "display_name": "Quora-Question-Pairs",
   "language": "python",
   "name": "python3"
  },
  "language_info": {
   "codemirror_mode": {
    "name": "ipython",
    "version": 3
   },
   "file_extension": ".py",
   "mimetype": "text/x-python",
   "name": "python",
   "nbconvert_exporter": "python",
   "pygments_lexer": "ipython3",
   "version": "3.11.9"
  }
 },
 "nbformat": 4,
 "nbformat_minor": 4
}
